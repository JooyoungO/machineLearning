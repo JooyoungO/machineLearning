{
  "nbformat": 4,
  "nbformat_minor": 0,
  "metadata": {
    "colab": {
      "provenance": [],
      "mount_file_id": "1_BvKIEBfJCSGB81OC_qtFPOpuHubJ-aX",
      "authorship_tag": "ABX9TyN/jGEapD3S2V9R9QnzKWAv",
      "include_colab_link": true
    },
    "kernelspec": {
      "name": "python3",
      "display_name": "Python 3"
    },
    "language_info": {
      "name": "python"
    }
  },
  "cells": [
    {
      "cell_type": "markdown",
      "metadata": {
        "id": "view-in-github",
        "colab_type": "text"
      },
      "source": [
        "<a href=\"https://colab.research.google.com/github/JooyoungO/machineLearning/blob/main/%EA%B3%BC%EC%A0%9C1.ipynb\" target=\"_parent\"><img src=\"https://colab.research.google.com/assets/colab-badge.svg\" alt=\"Open In Colab\"/></a>"
      ]
    },
    {
      "cell_type": "markdown",
      "source": [
        "# **데이터 불러오기**"
      ],
      "metadata": {
        "id": "CEsalQPhpxPj"
      }
    },
    {
      "cell_type": "code",
      "execution_count": 277,
      "metadata": {
        "colab": {
          "base_uri": "https://localhost:8080/",
          "height": 504
        },
        "id": "73DIKWY4pulv",
        "outputId": "07321873-cefe-4ac6-a549-d7701f17dfda"
      },
      "outputs": [
        {
          "output_type": "execute_result",
          "data": {
            "text/plain": [
              "   PassengerId  Survived  Pclass  \\\n",
              "0            1       0.0       3   \n",
              "1            2       1.0       1   \n",
              "2            3       1.0       3   \n",
              "3            4       1.0       1   \n",
              "4            5       0.0       3   \n",
              "\n",
              "                                                Name     Sex   Age  SibSp  \\\n",
              "0                            Braund, Mr. Owen Harris    male  22.0      1   \n",
              "1  Cumings, Mrs. John Bradley (Florence Briggs Th...  female  38.0      1   \n",
              "2                             Heikkinen, Miss. Laina  female  26.0      0   \n",
              "3       Futrelle, Mrs. Jacques Heath (Lily May Peel)  female  35.0      1   \n",
              "4                           Allen, Mr. William Henry    male  35.0      0   \n",
              "\n",
              "   Parch            Ticket     Fare Cabin Embarked  \n",
              "0      0         A/5 21171   7.2500   NaN        S  \n",
              "1      0          PC 17599  71.2833   C85        C  \n",
              "2      0  STON/O2. 3101282   7.9250   NaN        S  \n",
              "3      0            113803  53.1000  C123        S  \n",
              "4      0            373450   8.0500   NaN        S  "
            ],
            "text/html": [
              "\n",
              "  <div id=\"df-5d7f90fe-6756-4a86-9a83-498676be177c\" class=\"colab-df-container\">\n",
              "    <div>\n",
              "<style scoped>\n",
              "    .dataframe tbody tr th:only-of-type {\n",
              "        vertical-align: middle;\n",
              "    }\n",
              "\n",
              "    .dataframe tbody tr th {\n",
              "        vertical-align: top;\n",
              "    }\n",
              "\n",
              "    .dataframe thead th {\n",
              "        text-align: right;\n",
              "    }\n",
              "</style>\n",
              "<table border=\"1\" class=\"dataframe\">\n",
              "  <thead>\n",
              "    <tr style=\"text-align: right;\">\n",
              "      <th></th>\n",
              "      <th>PassengerId</th>\n",
              "      <th>Survived</th>\n",
              "      <th>Pclass</th>\n",
              "      <th>Name</th>\n",
              "      <th>Sex</th>\n",
              "      <th>Age</th>\n",
              "      <th>SibSp</th>\n",
              "      <th>Parch</th>\n",
              "      <th>Ticket</th>\n",
              "      <th>Fare</th>\n",
              "      <th>Cabin</th>\n",
              "      <th>Embarked</th>\n",
              "    </tr>\n",
              "  </thead>\n",
              "  <tbody>\n",
              "    <tr>\n",
              "      <th>0</th>\n",
              "      <td>1</td>\n",
              "      <td>0.0</td>\n",
              "      <td>3</td>\n",
              "      <td>Braund, Mr. Owen Harris</td>\n",
              "      <td>male</td>\n",
              "      <td>22.0</td>\n",
              "      <td>1</td>\n",
              "      <td>0</td>\n",
              "      <td>A/5 21171</td>\n",
              "      <td>7.2500</td>\n",
              "      <td>NaN</td>\n",
              "      <td>S</td>\n",
              "    </tr>\n",
              "    <tr>\n",
              "      <th>1</th>\n",
              "      <td>2</td>\n",
              "      <td>1.0</td>\n",
              "      <td>1</td>\n",
              "      <td>Cumings, Mrs. John Bradley (Florence Briggs Th...</td>\n",
              "      <td>female</td>\n",
              "      <td>38.0</td>\n",
              "      <td>1</td>\n",
              "      <td>0</td>\n",
              "      <td>PC 17599</td>\n",
              "      <td>71.2833</td>\n",
              "      <td>C85</td>\n",
              "      <td>C</td>\n",
              "    </tr>\n",
              "    <tr>\n",
              "      <th>2</th>\n",
              "      <td>3</td>\n",
              "      <td>1.0</td>\n",
              "      <td>3</td>\n",
              "      <td>Heikkinen, Miss. Laina</td>\n",
              "      <td>female</td>\n",
              "      <td>26.0</td>\n",
              "      <td>0</td>\n",
              "      <td>0</td>\n",
              "      <td>STON/O2. 3101282</td>\n",
              "      <td>7.9250</td>\n",
              "      <td>NaN</td>\n",
              "      <td>S</td>\n",
              "    </tr>\n",
              "    <tr>\n",
              "      <th>3</th>\n",
              "      <td>4</td>\n",
              "      <td>1.0</td>\n",
              "      <td>1</td>\n",
              "      <td>Futrelle, Mrs. Jacques Heath (Lily May Peel)</td>\n",
              "      <td>female</td>\n",
              "      <td>35.0</td>\n",
              "      <td>1</td>\n",
              "      <td>0</td>\n",
              "      <td>113803</td>\n",
              "      <td>53.1000</td>\n",
              "      <td>C123</td>\n",
              "      <td>S</td>\n",
              "    </tr>\n",
              "    <tr>\n",
              "      <th>4</th>\n",
              "      <td>5</td>\n",
              "      <td>0.0</td>\n",
              "      <td>3</td>\n",
              "      <td>Allen, Mr. William Henry</td>\n",
              "      <td>male</td>\n",
              "      <td>35.0</td>\n",
              "      <td>0</td>\n",
              "      <td>0</td>\n",
              "      <td>373450</td>\n",
              "      <td>8.0500</td>\n",
              "      <td>NaN</td>\n",
              "      <td>S</td>\n",
              "    </tr>\n",
              "  </tbody>\n",
              "</table>\n",
              "</div>\n",
              "    <div class=\"colab-df-buttons\">\n",
              "\n",
              "  <div class=\"colab-df-container\">\n",
              "    <button class=\"colab-df-convert\" onclick=\"convertToInteractive('df-5d7f90fe-6756-4a86-9a83-498676be177c')\"\n",
              "            title=\"Convert this dataframe to an interactive table.\"\n",
              "            style=\"display:none;\">\n",
              "\n",
              "  <svg xmlns=\"http://www.w3.org/2000/svg\" height=\"24px\" viewBox=\"0 -960 960 960\">\n",
              "    <path d=\"M120-120v-720h720v720H120Zm60-500h600v-160H180v160Zm220 220h160v-160H400v160Zm0 220h160v-160H400v160ZM180-400h160v-160H180v160Zm440 0h160v-160H620v160ZM180-180h160v-160H180v160Zm440 0h160v-160H620v160Z\"/>\n",
              "  </svg>\n",
              "    </button>\n",
              "\n",
              "  <style>\n",
              "    .colab-df-container {\n",
              "      display:flex;\n",
              "      gap: 12px;\n",
              "    }\n",
              "\n",
              "    .colab-df-convert {\n",
              "      background-color: #E8F0FE;\n",
              "      border: none;\n",
              "      border-radius: 50%;\n",
              "      cursor: pointer;\n",
              "      display: none;\n",
              "      fill: #1967D2;\n",
              "      height: 32px;\n",
              "      padding: 0 0 0 0;\n",
              "      width: 32px;\n",
              "    }\n",
              "\n",
              "    .colab-df-convert:hover {\n",
              "      background-color: #E2EBFA;\n",
              "      box-shadow: 0px 1px 2px rgba(60, 64, 67, 0.3), 0px 1px 3px 1px rgba(60, 64, 67, 0.15);\n",
              "      fill: #174EA6;\n",
              "    }\n",
              "\n",
              "    .colab-df-buttons div {\n",
              "      margin-bottom: 4px;\n",
              "    }\n",
              "\n",
              "    [theme=dark] .colab-df-convert {\n",
              "      background-color: #3B4455;\n",
              "      fill: #D2E3FC;\n",
              "    }\n",
              "\n",
              "    [theme=dark] .colab-df-convert:hover {\n",
              "      background-color: #434B5C;\n",
              "      box-shadow: 0px 1px 3px 1px rgba(0, 0, 0, 0.15);\n",
              "      filter: drop-shadow(0px 1px 2px rgba(0, 0, 0, 0.3));\n",
              "      fill: #FFFFFF;\n",
              "    }\n",
              "  </style>\n",
              "\n",
              "    <script>\n",
              "      const buttonEl =\n",
              "        document.querySelector('#df-5d7f90fe-6756-4a86-9a83-498676be177c button.colab-df-convert');\n",
              "      buttonEl.style.display =\n",
              "        google.colab.kernel.accessAllowed ? 'block' : 'none';\n",
              "\n",
              "      async function convertToInteractive(key) {\n",
              "        const element = document.querySelector('#df-5d7f90fe-6756-4a86-9a83-498676be177c');\n",
              "        const dataTable =\n",
              "          await google.colab.kernel.invokeFunction('convertToInteractive',\n",
              "                                                    [key], {});\n",
              "        if (!dataTable) return;\n",
              "\n",
              "        const docLinkHtml = 'Like what you see? Visit the ' +\n",
              "          '<a target=\"_blank\" href=https://colab.research.google.com/notebooks/data_table.ipynb>data table notebook</a>'\n",
              "          + ' to learn more about interactive tables.';\n",
              "        element.innerHTML = '';\n",
              "        dataTable['output_type'] = 'display_data';\n",
              "        await google.colab.output.renderOutput(dataTable, element);\n",
              "        const docLink = document.createElement('div');\n",
              "        docLink.innerHTML = docLinkHtml;\n",
              "        element.appendChild(docLink);\n",
              "      }\n",
              "    </script>\n",
              "  </div>\n",
              "\n",
              "\n",
              "<div id=\"df-8d9b373d-bc70-4202-9cce-009c1d6e647e\">\n",
              "  <button class=\"colab-df-quickchart\" onclick=\"quickchart('df-8d9b373d-bc70-4202-9cce-009c1d6e647e')\"\n",
              "            title=\"Suggest charts.\"\n",
              "            style=\"display:none;\">\n",
              "\n",
              "<svg xmlns=\"http://www.w3.org/2000/svg\" height=\"24px\"viewBox=\"0 0 24 24\"\n",
              "     width=\"24px\">\n",
              "    <g>\n",
              "        <path d=\"M19 3H5c-1.1 0-2 .9-2 2v14c0 1.1.9 2 2 2h14c1.1 0 2-.9 2-2V5c0-1.1-.9-2-2-2zM9 17H7v-7h2v7zm4 0h-2V7h2v10zm4 0h-2v-4h2v4z\"/>\n",
              "    </g>\n",
              "</svg>\n",
              "  </button>\n",
              "\n",
              "<style>\n",
              "  .colab-df-quickchart {\n",
              "      --bg-color: #E8F0FE;\n",
              "      --fill-color: #1967D2;\n",
              "      --hover-bg-color: #E2EBFA;\n",
              "      --hover-fill-color: #174EA6;\n",
              "      --disabled-fill-color: #AAA;\n",
              "      --disabled-bg-color: #DDD;\n",
              "  }\n",
              "\n",
              "  [theme=dark] .colab-df-quickchart {\n",
              "      --bg-color: #3B4455;\n",
              "      --fill-color: #D2E3FC;\n",
              "      --hover-bg-color: #434B5C;\n",
              "      --hover-fill-color: #FFFFFF;\n",
              "      --disabled-bg-color: #3B4455;\n",
              "      --disabled-fill-color: #666;\n",
              "  }\n",
              "\n",
              "  .colab-df-quickchart {\n",
              "    background-color: var(--bg-color);\n",
              "    border: none;\n",
              "    border-radius: 50%;\n",
              "    cursor: pointer;\n",
              "    display: none;\n",
              "    fill: var(--fill-color);\n",
              "    height: 32px;\n",
              "    padding: 0;\n",
              "    width: 32px;\n",
              "  }\n",
              "\n",
              "  .colab-df-quickchart:hover {\n",
              "    background-color: var(--hover-bg-color);\n",
              "    box-shadow: 0 1px 2px rgba(60, 64, 67, 0.3), 0 1px 3px 1px rgba(60, 64, 67, 0.15);\n",
              "    fill: var(--button-hover-fill-color);\n",
              "  }\n",
              "\n",
              "  .colab-df-quickchart-complete:disabled,\n",
              "  .colab-df-quickchart-complete:disabled:hover {\n",
              "    background-color: var(--disabled-bg-color);\n",
              "    fill: var(--disabled-fill-color);\n",
              "    box-shadow: none;\n",
              "  }\n",
              "\n",
              "  .colab-df-spinner {\n",
              "    border: 2px solid var(--fill-color);\n",
              "    border-color: transparent;\n",
              "    border-bottom-color: var(--fill-color);\n",
              "    animation:\n",
              "      spin 1s steps(1) infinite;\n",
              "  }\n",
              "\n",
              "  @keyframes spin {\n",
              "    0% {\n",
              "      border-color: transparent;\n",
              "      border-bottom-color: var(--fill-color);\n",
              "      border-left-color: var(--fill-color);\n",
              "    }\n",
              "    20% {\n",
              "      border-color: transparent;\n",
              "      border-left-color: var(--fill-color);\n",
              "      border-top-color: var(--fill-color);\n",
              "    }\n",
              "    30% {\n",
              "      border-color: transparent;\n",
              "      border-left-color: var(--fill-color);\n",
              "      border-top-color: var(--fill-color);\n",
              "      border-right-color: var(--fill-color);\n",
              "    }\n",
              "    40% {\n",
              "      border-color: transparent;\n",
              "      border-right-color: var(--fill-color);\n",
              "      border-top-color: var(--fill-color);\n",
              "    }\n",
              "    60% {\n",
              "      border-color: transparent;\n",
              "      border-right-color: var(--fill-color);\n",
              "    }\n",
              "    80% {\n",
              "      border-color: transparent;\n",
              "      border-right-color: var(--fill-color);\n",
              "      border-bottom-color: var(--fill-color);\n",
              "    }\n",
              "    90% {\n",
              "      border-color: transparent;\n",
              "      border-bottom-color: var(--fill-color);\n",
              "    }\n",
              "  }\n",
              "</style>\n",
              "\n",
              "  <script>\n",
              "    async function quickchart(key) {\n",
              "      const quickchartButtonEl =\n",
              "        document.querySelector('#' + key + ' button');\n",
              "      quickchartButtonEl.disabled = true;  // To prevent multiple clicks.\n",
              "      quickchartButtonEl.classList.add('colab-df-spinner');\n",
              "      try {\n",
              "        const charts = await google.colab.kernel.invokeFunction(\n",
              "            'suggestCharts', [key], {});\n",
              "      } catch (error) {\n",
              "        console.error('Error during call to suggestCharts:', error);\n",
              "      }\n",
              "      quickchartButtonEl.classList.remove('colab-df-spinner');\n",
              "      quickchartButtonEl.classList.add('colab-df-quickchart-complete');\n",
              "    }\n",
              "    (() => {\n",
              "      let quickchartButtonEl =\n",
              "        document.querySelector('#df-8d9b373d-bc70-4202-9cce-009c1d6e647e button');\n",
              "      quickchartButtonEl.style.display =\n",
              "        google.colab.kernel.accessAllowed ? 'block' : 'none';\n",
              "    })();\n",
              "  </script>\n",
              "</div>\n",
              "    </div>\n",
              "  </div>\n"
            ]
          },
          "metadata": {},
          "execution_count": 277
        }
      ],
      "source": [
        "import pandas as pd\n",
        "\n",
        "titanic_train = pd.read_csv('/content/drive/MyDrive/Colab Notebooks/train.csv')\n",
        "titanic_test = pd.read_csv('/content/drive/MyDrive/Colab Notebooks/test.csv')\n",
        "\n",
        "# axis = 0 -> 위아래로 합침\n",
        "titanic = pd.DataFrame(pd.concat([titanic_train, titanic_test], axis = 0))\n",
        "\n",
        "titanic.head()\n"
      ]
    },
    {
      "cell_type": "code",
      "source": [
        "titanic_train.info()\n",
        "titanic_test.info()\n",
        "\n",
        "titanic.info()"
      ],
      "metadata": {
        "colab": {
          "base_uri": "https://localhost:8080/"
        },
        "id": "gygbb_joPorC",
        "outputId": "45c900b3-9fef-4423-9194-0b8f4e2af379"
      },
      "execution_count": 278,
      "outputs": [
        {
          "output_type": "stream",
          "name": "stdout",
          "text": [
            "<class 'pandas.core.frame.DataFrame'>\n",
            "RangeIndex: 891 entries, 0 to 890\n",
            "Data columns (total 12 columns):\n",
            " #   Column       Non-Null Count  Dtype  \n",
            "---  ------       --------------  -----  \n",
            " 0   PassengerId  891 non-null    int64  \n",
            " 1   Survived     891 non-null    int64  \n",
            " 2   Pclass       891 non-null    int64  \n",
            " 3   Name         891 non-null    object \n",
            " 4   Sex          891 non-null    object \n",
            " 5   Age          714 non-null    float64\n",
            " 6   SibSp        891 non-null    int64  \n",
            " 7   Parch        891 non-null    int64  \n",
            " 8   Ticket       891 non-null    object \n",
            " 9   Fare         891 non-null    float64\n",
            " 10  Cabin        204 non-null    object \n",
            " 11  Embarked     889 non-null    object \n",
            "dtypes: float64(2), int64(5), object(5)\n",
            "memory usage: 83.7+ KB\n",
            "<class 'pandas.core.frame.DataFrame'>\n",
            "RangeIndex: 418 entries, 0 to 417\n",
            "Data columns (total 11 columns):\n",
            " #   Column       Non-Null Count  Dtype  \n",
            "---  ------       --------------  -----  \n",
            " 0   PassengerId  418 non-null    int64  \n",
            " 1   Pclass       418 non-null    int64  \n",
            " 2   Name         418 non-null    object \n",
            " 3   Sex          418 non-null    object \n",
            " 4   Age          332 non-null    float64\n",
            " 5   SibSp        418 non-null    int64  \n",
            " 6   Parch        418 non-null    int64  \n",
            " 7   Ticket       418 non-null    object \n",
            " 8   Fare         417 non-null    float64\n",
            " 9   Cabin        91 non-null     object \n",
            " 10  Embarked     418 non-null    object \n",
            "dtypes: float64(2), int64(4), object(5)\n",
            "memory usage: 36.0+ KB\n",
            "<class 'pandas.core.frame.DataFrame'>\n",
            "Int64Index: 1309 entries, 0 to 417\n",
            "Data columns (total 12 columns):\n",
            " #   Column       Non-Null Count  Dtype  \n",
            "---  ------       --------------  -----  \n",
            " 0   PassengerId  1309 non-null   int64  \n",
            " 1   Survived     891 non-null    float64\n",
            " 2   Pclass       1309 non-null   int64  \n",
            " 3   Name         1309 non-null   object \n",
            " 4   Sex          1309 non-null   object \n",
            " 5   Age          1046 non-null   float64\n",
            " 6   SibSp        1309 non-null   int64  \n",
            " 7   Parch        1309 non-null   int64  \n",
            " 8   Ticket       1309 non-null   object \n",
            " 9   Fare         1308 non-null   float64\n",
            " 10  Cabin        295 non-null    object \n",
            " 11  Embarked     1307 non-null   object \n",
            "dtypes: float64(3), int64(4), object(5)\n",
            "memory usage: 132.9+ KB\n"
          ]
        }
      ]
    },
    {
      "cell_type": "markdown",
      "source": [
        "PassengerId : 각 승객의 고유 번호\n",
        "\n",
        "Survived : 생존 여부\n",
        "  * 0 : 사망\n",
        "  * 1 : 생존\n",
        "\n",
        "Pclass : 객실 등급 - 승객의 사회적, 경제적 지위\n",
        "\n",
        "  * 1st : Upper\n",
        "  * 2nd : Middle\n",
        "  * 3rd : Lower\n",
        "\n",
        "SibSp : 동반한 Sibling(형제자매) 와 Spouse(배우자) 의 수\n",
        "\n",
        "Parch : 동반한 Parent(부모) Child(자식) 의 수\n",
        "\n",
        "Ticket : 티켓의 고유넘버\n",
        "\n",
        "Fare : 티켓의 요금\n",
        "\n",
        "Cabin : 객실 번호\n",
        "\n",
        "Embarked : 승선한 항\n",
        "\n",
        "  * C : Cherbourg\n",
        "\n",
        "  * Q : Queenstown\n",
        "\n",
        "  * S : Southampton"
      ],
      "metadata": {
        "id": "NseY1SQZQygg"
      }
    },
    {
      "cell_type": "code",
      "source": [
        "titanic"
      ],
      "metadata": {
        "colab": {
          "base_uri": "https://localhost:8080/",
          "height": 878
        },
        "id": "xdM9Gt3u3_5h",
        "outputId": "c9ddb388-f429-4a87-a4df-2bbc6f50e512"
      },
      "execution_count": 279,
      "outputs": [
        {
          "output_type": "execute_result",
          "data": {
            "text/plain": [
              "     PassengerId  Survived  Pclass  \\\n",
              "0              1       0.0       3   \n",
              "1              2       1.0       1   \n",
              "2              3       1.0       3   \n",
              "3              4       1.0       1   \n",
              "4              5       0.0       3   \n",
              "..           ...       ...     ...   \n",
              "413         1305       NaN       3   \n",
              "414         1306       NaN       1   \n",
              "415         1307       NaN       3   \n",
              "416         1308       NaN       3   \n",
              "417         1309       NaN       3   \n",
              "\n",
              "                                                  Name     Sex   Age  SibSp  \\\n",
              "0                              Braund, Mr. Owen Harris    male  22.0      1   \n",
              "1    Cumings, Mrs. John Bradley (Florence Briggs Th...  female  38.0      1   \n",
              "2                               Heikkinen, Miss. Laina  female  26.0      0   \n",
              "3         Futrelle, Mrs. Jacques Heath (Lily May Peel)  female  35.0      1   \n",
              "4                             Allen, Mr. William Henry    male  35.0      0   \n",
              "..                                                 ...     ...   ...    ...   \n",
              "413                                 Spector, Mr. Woolf    male   NaN      0   \n",
              "414                       Oliva y Ocana, Dona. Fermina  female  39.0      0   \n",
              "415                       Saether, Mr. Simon Sivertsen    male  38.5      0   \n",
              "416                                Ware, Mr. Frederick    male   NaN      0   \n",
              "417                           Peter, Master. Michael J    male   NaN      1   \n",
              "\n",
              "     Parch              Ticket      Fare Cabin Embarked  \n",
              "0        0           A/5 21171    7.2500   NaN        S  \n",
              "1        0            PC 17599   71.2833   C85        C  \n",
              "2        0    STON/O2. 3101282    7.9250   NaN        S  \n",
              "3        0              113803   53.1000  C123        S  \n",
              "4        0              373450    8.0500   NaN        S  \n",
              "..     ...                 ...       ...   ...      ...  \n",
              "413      0           A.5. 3236    8.0500   NaN        S  \n",
              "414      0            PC 17758  108.9000  C105        C  \n",
              "415      0  SOTON/O.Q. 3101262    7.2500   NaN        S  \n",
              "416      0              359309    8.0500   NaN        S  \n",
              "417      1                2668   22.3583   NaN        C  \n",
              "\n",
              "[1309 rows x 12 columns]"
            ],
            "text/html": [
              "\n",
              "  <div id=\"df-be8f7e82-c6d7-4b96-9a05-e1c16adb2aad\" class=\"colab-df-container\">\n",
              "    <div>\n",
              "<style scoped>\n",
              "    .dataframe tbody tr th:only-of-type {\n",
              "        vertical-align: middle;\n",
              "    }\n",
              "\n",
              "    .dataframe tbody tr th {\n",
              "        vertical-align: top;\n",
              "    }\n",
              "\n",
              "    .dataframe thead th {\n",
              "        text-align: right;\n",
              "    }\n",
              "</style>\n",
              "<table border=\"1\" class=\"dataframe\">\n",
              "  <thead>\n",
              "    <tr style=\"text-align: right;\">\n",
              "      <th></th>\n",
              "      <th>PassengerId</th>\n",
              "      <th>Survived</th>\n",
              "      <th>Pclass</th>\n",
              "      <th>Name</th>\n",
              "      <th>Sex</th>\n",
              "      <th>Age</th>\n",
              "      <th>SibSp</th>\n",
              "      <th>Parch</th>\n",
              "      <th>Ticket</th>\n",
              "      <th>Fare</th>\n",
              "      <th>Cabin</th>\n",
              "      <th>Embarked</th>\n",
              "    </tr>\n",
              "  </thead>\n",
              "  <tbody>\n",
              "    <tr>\n",
              "      <th>0</th>\n",
              "      <td>1</td>\n",
              "      <td>0.0</td>\n",
              "      <td>3</td>\n",
              "      <td>Braund, Mr. Owen Harris</td>\n",
              "      <td>male</td>\n",
              "      <td>22.0</td>\n",
              "      <td>1</td>\n",
              "      <td>0</td>\n",
              "      <td>A/5 21171</td>\n",
              "      <td>7.2500</td>\n",
              "      <td>NaN</td>\n",
              "      <td>S</td>\n",
              "    </tr>\n",
              "    <tr>\n",
              "      <th>1</th>\n",
              "      <td>2</td>\n",
              "      <td>1.0</td>\n",
              "      <td>1</td>\n",
              "      <td>Cumings, Mrs. John Bradley (Florence Briggs Th...</td>\n",
              "      <td>female</td>\n",
              "      <td>38.0</td>\n",
              "      <td>1</td>\n",
              "      <td>0</td>\n",
              "      <td>PC 17599</td>\n",
              "      <td>71.2833</td>\n",
              "      <td>C85</td>\n",
              "      <td>C</td>\n",
              "    </tr>\n",
              "    <tr>\n",
              "      <th>2</th>\n",
              "      <td>3</td>\n",
              "      <td>1.0</td>\n",
              "      <td>3</td>\n",
              "      <td>Heikkinen, Miss. Laina</td>\n",
              "      <td>female</td>\n",
              "      <td>26.0</td>\n",
              "      <td>0</td>\n",
              "      <td>0</td>\n",
              "      <td>STON/O2. 3101282</td>\n",
              "      <td>7.9250</td>\n",
              "      <td>NaN</td>\n",
              "      <td>S</td>\n",
              "    </tr>\n",
              "    <tr>\n",
              "      <th>3</th>\n",
              "      <td>4</td>\n",
              "      <td>1.0</td>\n",
              "      <td>1</td>\n",
              "      <td>Futrelle, Mrs. Jacques Heath (Lily May Peel)</td>\n",
              "      <td>female</td>\n",
              "      <td>35.0</td>\n",
              "      <td>1</td>\n",
              "      <td>0</td>\n",
              "      <td>113803</td>\n",
              "      <td>53.1000</td>\n",
              "      <td>C123</td>\n",
              "      <td>S</td>\n",
              "    </tr>\n",
              "    <tr>\n",
              "      <th>4</th>\n",
              "      <td>5</td>\n",
              "      <td>0.0</td>\n",
              "      <td>3</td>\n",
              "      <td>Allen, Mr. William Henry</td>\n",
              "      <td>male</td>\n",
              "      <td>35.0</td>\n",
              "      <td>0</td>\n",
              "      <td>0</td>\n",
              "      <td>373450</td>\n",
              "      <td>8.0500</td>\n",
              "      <td>NaN</td>\n",
              "      <td>S</td>\n",
              "    </tr>\n",
              "    <tr>\n",
              "      <th>...</th>\n",
              "      <td>...</td>\n",
              "      <td>...</td>\n",
              "      <td>...</td>\n",
              "      <td>...</td>\n",
              "      <td>...</td>\n",
              "      <td>...</td>\n",
              "      <td>...</td>\n",
              "      <td>...</td>\n",
              "      <td>...</td>\n",
              "      <td>...</td>\n",
              "      <td>...</td>\n",
              "      <td>...</td>\n",
              "    </tr>\n",
              "    <tr>\n",
              "      <th>413</th>\n",
              "      <td>1305</td>\n",
              "      <td>NaN</td>\n",
              "      <td>3</td>\n",
              "      <td>Spector, Mr. Woolf</td>\n",
              "      <td>male</td>\n",
              "      <td>NaN</td>\n",
              "      <td>0</td>\n",
              "      <td>0</td>\n",
              "      <td>A.5. 3236</td>\n",
              "      <td>8.0500</td>\n",
              "      <td>NaN</td>\n",
              "      <td>S</td>\n",
              "    </tr>\n",
              "    <tr>\n",
              "      <th>414</th>\n",
              "      <td>1306</td>\n",
              "      <td>NaN</td>\n",
              "      <td>1</td>\n",
              "      <td>Oliva y Ocana, Dona. Fermina</td>\n",
              "      <td>female</td>\n",
              "      <td>39.0</td>\n",
              "      <td>0</td>\n",
              "      <td>0</td>\n",
              "      <td>PC 17758</td>\n",
              "      <td>108.9000</td>\n",
              "      <td>C105</td>\n",
              "      <td>C</td>\n",
              "    </tr>\n",
              "    <tr>\n",
              "      <th>415</th>\n",
              "      <td>1307</td>\n",
              "      <td>NaN</td>\n",
              "      <td>3</td>\n",
              "      <td>Saether, Mr. Simon Sivertsen</td>\n",
              "      <td>male</td>\n",
              "      <td>38.5</td>\n",
              "      <td>0</td>\n",
              "      <td>0</td>\n",
              "      <td>SOTON/O.Q. 3101262</td>\n",
              "      <td>7.2500</td>\n",
              "      <td>NaN</td>\n",
              "      <td>S</td>\n",
              "    </tr>\n",
              "    <tr>\n",
              "      <th>416</th>\n",
              "      <td>1308</td>\n",
              "      <td>NaN</td>\n",
              "      <td>3</td>\n",
              "      <td>Ware, Mr. Frederick</td>\n",
              "      <td>male</td>\n",
              "      <td>NaN</td>\n",
              "      <td>0</td>\n",
              "      <td>0</td>\n",
              "      <td>359309</td>\n",
              "      <td>8.0500</td>\n",
              "      <td>NaN</td>\n",
              "      <td>S</td>\n",
              "    </tr>\n",
              "    <tr>\n",
              "      <th>417</th>\n",
              "      <td>1309</td>\n",
              "      <td>NaN</td>\n",
              "      <td>3</td>\n",
              "      <td>Peter, Master. Michael J</td>\n",
              "      <td>male</td>\n",
              "      <td>NaN</td>\n",
              "      <td>1</td>\n",
              "      <td>1</td>\n",
              "      <td>2668</td>\n",
              "      <td>22.3583</td>\n",
              "      <td>NaN</td>\n",
              "      <td>C</td>\n",
              "    </tr>\n",
              "  </tbody>\n",
              "</table>\n",
              "<p>1309 rows × 12 columns</p>\n",
              "</div>\n",
              "    <div class=\"colab-df-buttons\">\n",
              "\n",
              "  <div class=\"colab-df-container\">\n",
              "    <button class=\"colab-df-convert\" onclick=\"convertToInteractive('df-be8f7e82-c6d7-4b96-9a05-e1c16adb2aad')\"\n",
              "            title=\"Convert this dataframe to an interactive table.\"\n",
              "            style=\"display:none;\">\n",
              "\n",
              "  <svg xmlns=\"http://www.w3.org/2000/svg\" height=\"24px\" viewBox=\"0 -960 960 960\">\n",
              "    <path d=\"M120-120v-720h720v720H120Zm60-500h600v-160H180v160Zm220 220h160v-160H400v160Zm0 220h160v-160H400v160ZM180-400h160v-160H180v160Zm440 0h160v-160H620v160ZM180-180h160v-160H180v160Zm440 0h160v-160H620v160Z\"/>\n",
              "  </svg>\n",
              "    </button>\n",
              "\n",
              "  <style>\n",
              "    .colab-df-container {\n",
              "      display:flex;\n",
              "      gap: 12px;\n",
              "    }\n",
              "\n",
              "    .colab-df-convert {\n",
              "      background-color: #E8F0FE;\n",
              "      border: none;\n",
              "      border-radius: 50%;\n",
              "      cursor: pointer;\n",
              "      display: none;\n",
              "      fill: #1967D2;\n",
              "      height: 32px;\n",
              "      padding: 0 0 0 0;\n",
              "      width: 32px;\n",
              "    }\n",
              "\n",
              "    .colab-df-convert:hover {\n",
              "      background-color: #E2EBFA;\n",
              "      box-shadow: 0px 1px 2px rgba(60, 64, 67, 0.3), 0px 1px 3px 1px rgba(60, 64, 67, 0.15);\n",
              "      fill: #174EA6;\n",
              "    }\n",
              "\n",
              "    .colab-df-buttons div {\n",
              "      margin-bottom: 4px;\n",
              "    }\n",
              "\n",
              "    [theme=dark] .colab-df-convert {\n",
              "      background-color: #3B4455;\n",
              "      fill: #D2E3FC;\n",
              "    }\n",
              "\n",
              "    [theme=dark] .colab-df-convert:hover {\n",
              "      background-color: #434B5C;\n",
              "      box-shadow: 0px 1px 3px 1px rgba(0, 0, 0, 0.15);\n",
              "      filter: drop-shadow(0px 1px 2px rgba(0, 0, 0, 0.3));\n",
              "      fill: #FFFFFF;\n",
              "    }\n",
              "  </style>\n",
              "\n",
              "    <script>\n",
              "      const buttonEl =\n",
              "        document.querySelector('#df-be8f7e82-c6d7-4b96-9a05-e1c16adb2aad button.colab-df-convert');\n",
              "      buttonEl.style.display =\n",
              "        google.colab.kernel.accessAllowed ? 'block' : 'none';\n",
              "\n",
              "      async function convertToInteractive(key) {\n",
              "        const element = document.querySelector('#df-be8f7e82-c6d7-4b96-9a05-e1c16adb2aad');\n",
              "        const dataTable =\n",
              "          await google.colab.kernel.invokeFunction('convertToInteractive',\n",
              "                                                    [key], {});\n",
              "        if (!dataTable) return;\n",
              "\n",
              "        const docLinkHtml = 'Like what you see? Visit the ' +\n",
              "          '<a target=\"_blank\" href=https://colab.research.google.com/notebooks/data_table.ipynb>data table notebook</a>'\n",
              "          + ' to learn more about interactive tables.';\n",
              "        element.innerHTML = '';\n",
              "        dataTable['output_type'] = 'display_data';\n",
              "        await google.colab.output.renderOutput(dataTable, element);\n",
              "        const docLink = document.createElement('div');\n",
              "        docLink.innerHTML = docLinkHtml;\n",
              "        element.appendChild(docLink);\n",
              "      }\n",
              "    </script>\n",
              "  </div>\n",
              "\n",
              "\n",
              "<div id=\"df-2ba6d48c-721f-4169-a253-65c00a2ad726\">\n",
              "  <button class=\"colab-df-quickchart\" onclick=\"quickchart('df-2ba6d48c-721f-4169-a253-65c00a2ad726')\"\n",
              "            title=\"Suggest charts.\"\n",
              "            style=\"display:none;\">\n",
              "\n",
              "<svg xmlns=\"http://www.w3.org/2000/svg\" height=\"24px\"viewBox=\"0 0 24 24\"\n",
              "     width=\"24px\">\n",
              "    <g>\n",
              "        <path d=\"M19 3H5c-1.1 0-2 .9-2 2v14c0 1.1.9 2 2 2h14c1.1 0 2-.9 2-2V5c0-1.1-.9-2-2-2zM9 17H7v-7h2v7zm4 0h-2V7h2v10zm4 0h-2v-4h2v4z\"/>\n",
              "    </g>\n",
              "</svg>\n",
              "  </button>\n",
              "\n",
              "<style>\n",
              "  .colab-df-quickchart {\n",
              "      --bg-color: #E8F0FE;\n",
              "      --fill-color: #1967D2;\n",
              "      --hover-bg-color: #E2EBFA;\n",
              "      --hover-fill-color: #174EA6;\n",
              "      --disabled-fill-color: #AAA;\n",
              "      --disabled-bg-color: #DDD;\n",
              "  }\n",
              "\n",
              "  [theme=dark] .colab-df-quickchart {\n",
              "      --bg-color: #3B4455;\n",
              "      --fill-color: #D2E3FC;\n",
              "      --hover-bg-color: #434B5C;\n",
              "      --hover-fill-color: #FFFFFF;\n",
              "      --disabled-bg-color: #3B4455;\n",
              "      --disabled-fill-color: #666;\n",
              "  }\n",
              "\n",
              "  .colab-df-quickchart {\n",
              "    background-color: var(--bg-color);\n",
              "    border: none;\n",
              "    border-radius: 50%;\n",
              "    cursor: pointer;\n",
              "    display: none;\n",
              "    fill: var(--fill-color);\n",
              "    height: 32px;\n",
              "    padding: 0;\n",
              "    width: 32px;\n",
              "  }\n",
              "\n",
              "  .colab-df-quickchart:hover {\n",
              "    background-color: var(--hover-bg-color);\n",
              "    box-shadow: 0 1px 2px rgba(60, 64, 67, 0.3), 0 1px 3px 1px rgba(60, 64, 67, 0.15);\n",
              "    fill: var(--button-hover-fill-color);\n",
              "  }\n",
              "\n",
              "  .colab-df-quickchart-complete:disabled,\n",
              "  .colab-df-quickchart-complete:disabled:hover {\n",
              "    background-color: var(--disabled-bg-color);\n",
              "    fill: var(--disabled-fill-color);\n",
              "    box-shadow: none;\n",
              "  }\n",
              "\n",
              "  .colab-df-spinner {\n",
              "    border: 2px solid var(--fill-color);\n",
              "    border-color: transparent;\n",
              "    border-bottom-color: var(--fill-color);\n",
              "    animation:\n",
              "      spin 1s steps(1) infinite;\n",
              "  }\n",
              "\n",
              "  @keyframes spin {\n",
              "    0% {\n",
              "      border-color: transparent;\n",
              "      border-bottom-color: var(--fill-color);\n",
              "      border-left-color: var(--fill-color);\n",
              "    }\n",
              "    20% {\n",
              "      border-color: transparent;\n",
              "      border-left-color: var(--fill-color);\n",
              "      border-top-color: var(--fill-color);\n",
              "    }\n",
              "    30% {\n",
              "      border-color: transparent;\n",
              "      border-left-color: var(--fill-color);\n",
              "      border-top-color: var(--fill-color);\n",
              "      border-right-color: var(--fill-color);\n",
              "    }\n",
              "    40% {\n",
              "      border-color: transparent;\n",
              "      border-right-color: var(--fill-color);\n",
              "      border-top-color: var(--fill-color);\n",
              "    }\n",
              "    60% {\n",
              "      border-color: transparent;\n",
              "      border-right-color: var(--fill-color);\n",
              "    }\n",
              "    80% {\n",
              "      border-color: transparent;\n",
              "      border-right-color: var(--fill-color);\n",
              "      border-bottom-color: var(--fill-color);\n",
              "    }\n",
              "    90% {\n",
              "      border-color: transparent;\n",
              "      border-bottom-color: var(--fill-color);\n",
              "    }\n",
              "  }\n",
              "</style>\n",
              "\n",
              "  <script>\n",
              "    async function quickchart(key) {\n",
              "      const quickchartButtonEl =\n",
              "        document.querySelector('#' + key + ' button');\n",
              "      quickchartButtonEl.disabled = true;  // To prevent multiple clicks.\n",
              "      quickchartButtonEl.classList.add('colab-df-spinner');\n",
              "      try {\n",
              "        const charts = await google.colab.kernel.invokeFunction(\n",
              "            'suggestCharts', [key], {});\n",
              "      } catch (error) {\n",
              "        console.error('Error during call to suggestCharts:', error);\n",
              "      }\n",
              "      quickchartButtonEl.classList.remove('colab-df-spinner');\n",
              "      quickchartButtonEl.classList.add('colab-df-quickchart-complete');\n",
              "    }\n",
              "    (() => {\n",
              "      let quickchartButtonEl =\n",
              "        document.querySelector('#df-2ba6d48c-721f-4169-a253-65c00a2ad726 button');\n",
              "      quickchartButtonEl.style.display =\n",
              "        google.colab.kernel.accessAllowed ? 'block' : 'none';\n",
              "    })();\n",
              "  </script>\n",
              "</div>\n",
              "    </div>\n",
              "  </div>\n"
            ]
          },
          "metadata": {},
          "execution_count": 279
        }
      ]
    },
    {
      "cell_type": "code",
      "source": [
        "print(titanic.columns.values)"
      ],
      "metadata": {
        "colab": {
          "base_uri": "https://localhost:8080/"
        },
        "id": "b6r-2swQ3282",
        "outputId": "a2bb957b-694a-4aea-a867-07e893ae9e83"
      },
      "execution_count": 280,
      "outputs": [
        {
          "output_type": "stream",
          "name": "stdout",
          "text": [
            "['PassengerId' 'Survived' 'Pclass' 'Name' 'Sex' 'Age' 'SibSp' 'Parch'\n",
            " 'Ticket' 'Fare' 'Cabin' 'Embarked']\n"
          ]
        }
      ]
    },
    {
      "cell_type": "code",
      "source": [
        "print(titanic_train.columns.values)"
      ],
      "metadata": {
        "colab": {
          "base_uri": "https://localhost:8080/"
        },
        "id": "UqrEDBJSJIhb",
        "outputId": "2fd55686-e961-4690-d0bb-7e60424c2409"
      },
      "execution_count": 281,
      "outputs": [
        {
          "output_type": "stream",
          "name": "stdout",
          "text": [
            "['PassengerId' 'Survived' 'Pclass' 'Name' 'Sex' 'Age' 'SibSp' 'Parch'\n",
            " 'Ticket' 'Fare' 'Cabin' 'Embarked']\n"
          ]
        }
      ]
    },
    {
      "cell_type": "code",
      "source": [
        "print(titanic_test.columns.values)"
      ],
      "metadata": {
        "colab": {
          "base_uri": "https://localhost:8080/"
        },
        "id": "-rkKLLTKw5Kf",
        "outputId": "edaf24e3-5489-4996-b522-8b5f46952d91"
      },
      "execution_count": 282,
      "outputs": [
        {
          "output_type": "stream",
          "name": "stdout",
          "text": [
            "['PassengerId' 'Pclass' 'Name' 'Sex' 'Age' 'SibSp' 'Parch' 'Ticket' 'Fare'\n",
            " 'Cabin' 'Embarked']\n"
          ]
        }
      ]
    },
    {
      "cell_type": "markdown",
      "source": [
        "# **훈련 세트와 테스트 세트로 나누기**"
      ],
      "metadata": {
        "id": "3KGZLNNu8OnS"
      }
    },
    {
      "cell_type": "markdown",
      "source": [
        "titanic_test 와 titanic_train 을 합친 titanic 데이터셋을 이용하려고 하니 titanic_train에는 titanic_test에는 없는 Survived 열이 있어서 둘을 계속 합치려고 하니까 Survived 속성에 NaN 값이 뜬다.\n",
        "\n"
      ],
      "metadata": {
        "id": "JEEbtPEZ7hap"
      }
    },
    {
      "cell_type": "markdown",
      "source": [
        "그래서 titanic_train 에서 Survived 열을 제외한 나머지 데이터와 titanic_test 데이터를 합쳐서  입력 데이터로 사용\n",
        "\n",
        "Survived 열은 타깃 데이터로 사용"
      ],
      "metadata": {
        "id": "sfIF-ZdH6M9k"
      }
    },
    {
      "cell_type": "markdown",
      "source": [
        "titanic_input 과 titanic_target 데이터의 갯수가 달라서 갯수를 동일하게 맞춰주기 위해 target 데이터를 늘렸다.\n",
        "\n",
        "차이만큼 뽑아서 기존 target 데이터에 추가하였다.\n",
        "\n"
      ],
      "metadata": {
        "id": "z-LoJPoqJibq"
      }
    },
    {
      "cell_type": "code",
      "source": [
        "titanic_input = titanic[['PassengerId', 'Pclass', 'Name', 'Sex', 'Age', 'SibSp', 'Parch',\n",
        " 'Ticket', 'Fare', 'Cabin', 'Embarked']].to_numpy()\n",
        "\n",
        "titanic_target = titanic_train['Survived'].to_numpy()"
      ],
      "metadata": {
        "id": "TU3KmmLL6j6u"
      },
      "execution_count": 283,
      "outputs": []
    },
    {
      "cell_type": "code",
      "source": [
        "from sklearn.model_selection import train_test_split\n",
        "import numpy as np\n",
        "\n",
        "# 기존 데이터를 복제하여 늘리기\n",
        "additional_data = np.random.choice(titanic_target, 1309 - 891)\n",
        "# titanic_target에 추가 데이터 붙이기\n",
        "titanic_target = np.concatenate((titanic_target, additional_data))\n",
        "\n",
        "train_input, test_input, train_target, test_target = train_test_split(\n",
        "    titanic_input, titanic_target, test_size=0.2, random_state=202034926\n",
        ")"
      ],
      "metadata": {
        "id": "eiH-VL9A8SZc"
      },
      "execution_count": 284,
      "outputs": []
    },
    {
      "cell_type": "code",
      "source": [
        "titanic_input"
      ],
      "metadata": {
        "colab": {
          "base_uri": "https://localhost:8080/"
        },
        "id": "D0UM2a9dH-XE",
        "outputId": "3baf38a7-4f65-4943-dd4c-1a89f55cabfa"
      },
      "execution_count": 285,
      "outputs": [
        {
          "output_type": "execute_result",
          "data": {
            "text/plain": [
              "array([[1, 3, 'Braund, Mr. Owen Harris', ..., 7.25, nan, 'S'],\n",
              "       [2, 1, 'Cumings, Mrs. John Bradley (Florence Briggs Thayer)', ...,\n",
              "        71.2833, 'C85', 'C'],\n",
              "       [3, 3, 'Heikkinen, Miss. Laina', ..., 7.925, nan, 'S'],\n",
              "       ...,\n",
              "       [1307, 3, 'Saether, Mr. Simon Sivertsen', ..., 7.25, nan, 'S'],\n",
              "       [1308, 3, 'Ware, Mr. Frederick', ..., 8.05, nan, 'S'],\n",
              "       [1309, 3, 'Peter, Master. Michael J', ..., 22.3583, nan, 'C']],\n",
              "      dtype=object)"
            ]
          },
          "metadata": {},
          "execution_count": 285
        }
      ]
    },
    {
      "cell_type": "code",
      "source": [
        "titanic_target"
      ],
      "metadata": {
        "colab": {
          "base_uri": "https://localhost:8080/"
        },
        "id": "9yc0Uohv7Z6a",
        "outputId": "f86a589c-33b6-4d25-d91c-58fa02670f7a"
      },
      "execution_count": 286,
      "outputs": [
        {
          "output_type": "execute_result",
          "data": {
            "text/plain": [
              "array([0, 1, 1, ..., 1, 0, 1])"
            ]
          },
          "metadata": {},
          "execution_count": 286
        }
      ]
    },
    {
      "cell_type": "code",
      "source": [
        "titanic_input.shape"
      ],
      "metadata": {
        "colab": {
          "base_uri": "https://localhost:8080/"
        },
        "id": "Ed5rPPEd_nJx",
        "outputId": "4e94d574-522b-4ac7-a1e3-32ec02344da2"
      },
      "execution_count": 287,
      "outputs": [
        {
          "output_type": "execute_result",
          "data": {
            "text/plain": [
              "(1309, 11)"
            ]
          },
          "metadata": {},
          "execution_count": 287
        }
      ]
    },
    {
      "cell_type": "code",
      "source": [
        "titanic_target.shape"
      ],
      "metadata": {
        "colab": {
          "base_uri": "https://localhost:8080/"
        },
        "id": "7aA72otS_t3S",
        "outputId": "819f8a5f-91b0-4074-80f0-841552de5af5"
      },
      "execution_count": 288,
      "outputs": [
        {
          "output_type": "execute_result",
          "data": {
            "text/plain": [
              "(1309,)"
            ]
          },
          "metadata": {},
          "execution_count": 288
        }
      ]
    },
    {
      "cell_type": "markdown",
      "source": [
        "# **데이터 분석**\n",
        "\n",
        "생존 가능성과 이름(Name), 티켓 고유번호(Ticket), 객실 번호(Cabin)은 상관관계가 없다는 것이 명확한데\n",
        "\n",
        "승선한 항(Embarked)은 각각의 지역에 따라 사람들의 경제적 지위와 연관될 수 있기 때문에 관계까 있는지 그래프를 그려보았다."
      ],
      "metadata": {
        "id": "s2Q13sHsWQCM"
      }
    },
    {
      "cell_type": "code",
      "source": [
        "import seaborn as sns\n",
        "\n",
        "grid = sns.FacetGrid(titanic_train, row='Embarked', col='Survived', height=2.2, aspect=1.6)\n",
        "\n",
        "# Error bar: 표시 안 함\n",
        "# barplot : 바 그래프로 지정\n",
        "# x: 성별, y: 요금\n",
        "# order=[\"male\",\"female\"] : x 축에 표시할 범주의 순서를 지정\n",
        "grid.map(sns.barplot, 'Sex', 'Fare', order=[\"male\",\"female\"])\n",
        "\n",
        "grid.add_legend()"
      ],
      "metadata": {
        "colab": {
          "base_uri": "https://localhost:8080/",
          "height": 609
        },
        "id": "rfaXMZ5WV7Gi",
        "outputId": "f5539c05-5010-47d7-afac-abbdd9c9e5d5"
      },
      "execution_count": 289,
      "outputs": [
        {
          "output_type": "execute_result",
          "data": {
            "text/plain": [
              "<seaborn.axisgrid.FacetGrid at 0x7df75c12b730>"
            ]
          },
          "metadata": {},
          "execution_count": 289
        },
        {
          "output_type": "display_data",
          "data": {
            "text/plain": [
              "<Figure size 715.111x660 with 6 Axes>"
            ],
            "image/png": "[encoded data removed]"
          },
          "metadata": {}
        }
      ]
    },
    {
      "cell_type": "markdown",
      "source": [
        "승선지가 S 또는 C인 경우, 생존한 사람들의 요금이 더 높다.\n",
        "\n",
        "-> 관계가 있을 것으로 보임"
      ],
      "metadata": {
        "id": "54czHQ5YYMR3"
      }
    },
    {
      "cell_type": "markdown",
      "source": [
        "# **데이터 전처리**"
      ],
      "metadata": {
        "id": "Bh7Wxr9mKTWC"
      }
    },
    {
      "cell_type": "markdown",
      "source": [
        "각 변수들의 데이터형이 string인 경우가 많기 때문에 필요한 변수들 중에서는 데이터형을 숫자형 변수로 바꿔준다.\n",
        "\n"
      ],
      "metadata": {
        "id": "OGcfkHSfMfWY"
      }
    },
    {
      "cell_type": "code",
      "source": [
        "# 안쓰는 변수(Ticket, Cabin, Name, PassengerID) 제거\n",
        "\n",
        "titanic_input = titanic[['Pclass', 'Sex', 'Age', 'SibSp', 'Parch', 'Fare', 'Embarked']].to_numpy()\n",
        "\n",
        "titanic_input.shape"
      ],
      "metadata": {
        "colab": {
          "base_uri": "https://localhost:8080/"
        },
        "id": "-30XwcMUNsm7",
        "outputId": "ebc2471e-ba57-471d-a6c7-cfd5cda22181"
      },
      "execution_count": 290,
      "outputs": [
        {
          "output_type": "execute_result",
          "data": {
            "text/plain": [
              "(1309, 7)"
            ]
          },
          "metadata": {},
          "execution_count": 290
        }
      ]
    },
    {
      "cell_type": "code",
      "source": [
        "# 성별(Sex) 변수를 숫자형으로 바꿔줌\n",
        "\n",
        "# 성별을 숫자로 매핑하는 딕셔너리\n",
        "sex_mapping = {'male': 0, 'female': 1}\n",
        "\n",
        "# 'Sex' 열을 숫자로 매핑\n",
        "titanic_input[:, 1] = [sex_mapping[item] for item in titanic_input[:, 1]]\n",
        "\n",
        "# 결과 확인\n",
        "print(titanic_input[150:200])\n",
        "\n"
      ],
      "metadata": {
        "colab": {
          "base_uri": "https://localhost:8080/"
        },
        "id": "Zk5T4hMmM2--",
        "outputId": "fc22f614-e881-4e50-c2c1-c15fb056e63d"
      },
      "execution_count": 291,
      "outputs": [
        {
          "output_type": "stream",
          "name": "stdout",
          "text": [
            "[[2 0 51.0 0 0 12.525 'S']\n",
            " [1 1 22.0 1 0 66.6 'S']\n",
            " [3 0 55.5 0 0 8.05 'S']\n",
            " [3 0 40.5 0 2 14.5 'S']\n",
            " [3 0 nan 0 0 7.3125 'S']\n",
            " [1 0 51.0 0 1 61.3792 'C']\n",
            " [3 1 16.0 0 0 7.7333 'Q']\n",
            " [3 0 30.0 0 0 8.05 'S']\n",
            " [3 0 nan 0 0 8.6625 'S']\n",
            " [3 0 nan 8 2 69.55 'S']\n",
            " [3 0 44.0 0 1 16.1 'S']\n",
            " [2 1 40.0 0 0 15.75 'S']\n",
            " [3 0 26.0 0 0 7.775 'S']\n",
            " [3 0 17.0 0 0 8.6625 'S']\n",
            " [3 0 1.0 4 1 39.6875 'S']\n",
            " [3 0 9.0 0 2 20.525 'S']\n",
            " [1 1 nan 0 1 55.0 'S']\n",
            " [3 1 45.0 1 4 27.9 'S']\n",
            " [1 0 nan 0 0 25.925 'S']\n",
            " [3 0 28.0 0 0 56.4958 'S']\n",
            " [1 0 61.0 0 0 33.5 'S']\n",
            " [3 0 4.0 4 1 29.125 'Q']\n",
            " [3 1 1.0 1 1 11.1333 'S']\n",
            " [3 0 21.0 0 0 7.925 'S']\n",
            " [1 0 56.0 0 0 30.6958 'C']\n",
            " [3 0 18.0 1 1 7.8542 'S']\n",
            " [3 0 nan 3 1 25.4667 'S']\n",
            " [1 1 50.0 0 0 28.7125 'C']\n",
            " [2 0 30.0 0 0 13.0 'S']\n",
            " [3 0 36.0 0 0 0.0 'S']\n",
            " [3 1 nan 8 2 69.55 'S']\n",
            " [2 0 nan 0 0 15.05 'C']\n",
            " [3 0 9.0 4 2 31.3875 'S']\n",
            " [2 0 1.0 2 1 39.0 'S']\n",
            " [3 1 4.0 0 2 22.025 'S']\n",
            " [1 0 nan 0 0 50.0 'S']\n",
            " [3 1 nan 1 0 15.5 'Q']\n",
            " [1 0 45.0 0 0 26.55 'S']\n",
            " [3 0 40.0 1 1 15.5 'Q']\n",
            " [3 0 36.0 0 0 7.8958 'S']\n",
            " [2 1 32.0 0 0 13.0 'S']\n",
            " [2 0 19.0 0 0 13.0 'S']\n",
            " [3 1 19.0 1 0 7.8542 'S']\n",
            " [2 0 3.0 1 1 26.0 'S']\n",
            " [1 1 44.0 0 0 27.7208 'C']\n",
            " [1 1 58.0 0 0 146.5208 'C']\n",
            " [3 0 nan 0 0 7.75 'Q']\n",
            " [3 0 42.0 0 1 8.4042 'S']\n",
            " [3 1 nan 0 0 7.75 'Q']\n",
            " [2 1 24.0 0 0 13.0 'S']]\n"
          ]
        }
      ]
    },
    {
      "cell_type": "markdown",
      "source": [
        "Age 열에 NaN 값을 처리하기 위해\n",
        "\n",
        "NaN 값을 평균값으로 대체하여 채우기로 하였다."
      ],
      "metadata": {
        "id": "fQM1wM_rZgrU"
      }
    },
    {
      "cell_type": "code",
      "source": [
        "# 'Age' 열의 데이터를 숫자형으로 변환 (문자열을 숫자로 변환)\n",
        "titanic_input[:, 2] = pd.to_numeric(titanic_input[:, 2], errors='coerce')\n",
        "\n",
        "# 'Age' 열의 평균값 계산\n",
        "mean_age = np.nanmean(titanic_input[:, 2].astype(float))\n",
        "\n",
        "# 평균값으로 NaN 대체\n",
        "for i in range(len(titanic_input[:, 2])):\n",
        "    if pd.isna(titanic_input[i, 2]):\n",
        "        titanic_input[i, 2] = mean_age\n",
        "\n",
        "# 결과 확인\n",
        "print(titanic_input)"
      ],
      "metadata": {
        "colab": {
          "base_uri": "https://localhost:8080/"
        },
        "id": "5OwFJpKCZfhV",
        "outputId": "c915b208-f68a-4398-9353-c29accba4fa8"
      },
      "execution_count": 292,
      "outputs": [
        {
          "output_type": "stream",
          "name": "stdout",
          "text": [
            "[[3 0 22.0 ... 0 7.25 'S']\n",
            " [1 1 38.0 ... 0 71.2833 'C']\n",
            " [3 1 26.0 ... 0 7.925 'S']\n",
            " ...\n",
            " [3 0 38.5 ... 0 7.25 'S']\n",
            " [3 0 29.881137667304014 ... 0 8.05 'S']\n",
            " [3 0 29.881137667304014 ... 1 22.3583 'C']]\n"
          ]
        }
      ]
    },
    {
      "cell_type": "code",
      "source": [
        "titanic_input[:, 6]"
      ],
      "metadata": {
        "colab": {
          "base_uri": "https://localhost:8080/"
        },
        "id": "g7d0pmI_AcFH",
        "outputId": "a1f7fffe-af75-4ddf-ed0e-895433956b3e"
      },
      "execution_count": 293,
      "outputs": [
        {
          "output_type": "execute_result",
          "data": {
            "text/plain": [
              "array(['S', 'C', 'S', ..., 'S', 'S', 'C'], dtype=object)"
            ]
          },
          "metadata": {},
          "execution_count": 293
        }
      ]
    },
    {
      "cell_type": "code",
      "source": [
        "# 승선지(Embarked) 열의 데이터를 숫자형으로 변환 (문자열을 숫자로 변환)\n",
        "\n",
        "# 승선지를 숫자로 매핑하는 딕셔너리\n",
        "#embarked_mapping = {'S': 0, 'C': 1, 'Q' : 2}\n",
        "\n",
        "# 'Embarked' 열을 숫자로 매핑\n",
        "#titanic_input[:, 6] = [embarked_mapping[item] for item in titanic_input[:, 6]]\n",
        "\n",
        "# 결과 확인\n",
        "#print(titanic_input[150:200])"
      ],
      "metadata": {
        "id": "3q1P8W1d_tx4"
      },
      "execution_count": 294,
      "outputs": []
    },
    {
      "cell_type": "markdown",
      "source": [
        "위 코드를 실행하였을 때\n",
        "\n",
        "KeyError: nan\n",
        "\n",
        "이 에러값이 떠서 데이터 중에 nan 값이 있다고 생각하고 이 값을 최반값을 대체하기로 하였다."
      ],
      "metadata": {
        "id": "gtSyqe1jCFsR"
      }
    },
    {
      "cell_type": "markdown",
      "source": [
        "최빈값을 찾으려 코드를 쓰는 도중 Embarked 데이터 중에 숫자가 있는 것이 판단되어 문자열만 추출하는 방법을 사용하여 최빈값을 계산하였다."
      ],
      "metadata": {
        "id": "4qKd7Zi3Ehqn"
      }
    },
    {
      "cell_type": "code",
      "source": [
        "# 승선지(Embarked) 변수를 최빈값으로 대체\n",
        "\n",
        "# titanic_input 에서 Embarked 열에 해당하는 데이터만 모은 넘파이 배열 생성\n",
        "arr = titanic_input[:, 6]\n",
        "\n",
        "# 문자열 데이터만 필터링하여 추출\n",
        "string_values = arr[np.vectorize(lambda x: isinstance(x, str))(arr)]\n",
        "\n",
        "# 최빈값 계산\n",
        "unique_elements, counts = np.unique(string_values, return_counts=True)\n",
        "\n",
        "# 최빈값 찾기\n",
        "mode_index = np.argmax(counts)\n",
        "mode_value = unique_elements[mode_index]\n",
        "\n",
        "# 최반값 출력\n",
        "print(\"최빈값:\", mode_value)"
      ],
      "metadata": {
        "colab": {
          "base_uri": "https://localhost:8080/"
        },
        "id": "25yfeLEZCQVm",
        "outputId": "dc0c9f66-0dd3-493d-935e-399762032730"
      },
      "execution_count": 295,
      "outputs": [
        {
          "output_type": "stream",
          "name": "stdout",
          "text": [
            "최빈값: S\n"
          ]
        }
      ]
    },
    {
      "cell_type": "code",
      "source": [
        "# nan 값을 최빈값 'S' 로 대체\n",
        "titanic_input[titanic_input[:, 6] != titanic_input[:, 6]] = 'S'\n",
        "\n",
        "# 승선지(Embarked) 열의 데이터를 숫자형으로 변환 (문자열을 숫자로 변환)\n",
        "\n",
        "# 승선지를 숫자로 매핑하는 딕셔너리\n",
        "embarked_mapping = {'S': 0, 'C': 1, 'Q' : 2}\n",
        "\n",
        "# 'Embarked' 열을 숫자로 매핑\n",
        "titanic_input[:, 6] = [embarked_mapping[item] for item in titanic_input[:, 6]]\n",
        "\n",
        "# 결과 확인\n",
        "print(titanic_input[150:200])"
      ],
      "metadata": {
        "colab": {
          "base_uri": "https://localhost:8080/"
        },
        "id": "g0Nba2bmFI6V",
        "outputId": "b4332c61-afd6-409e-90f1-f1ef00511e14"
      },
      "execution_count": 296,
      "outputs": [
        {
          "output_type": "stream",
          "name": "stdout",
          "text": [
            "[[2 0 51.0 0 0 12.525 0]\n",
            " [1 1 22.0 1 0 66.6 0]\n",
            " [3 0 55.5 0 0 8.05 0]\n",
            " [3 0 40.5 0 2 14.5 0]\n",
            " [3 0 29.881137667304014 0 0 7.3125 0]\n",
            " [1 0 51.0 0 1 61.3792 1]\n",
            " [3 1 16.0 0 0 7.7333 2]\n",
            " [3 0 30.0 0 0 8.05 0]\n",
            " [3 0 29.881137667304014 0 0 8.6625 0]\n",
            " [3 0 29.881137667304014 8 2 69.55 0]\n",
            " [3 0 44.0 0 1 16.1 0]\n",
            " [2 1 40.0 0 0 15.75 0]\n",
            " [3 0 26.0 0 0 7.775 0]\n",
            " [3 0 17.0 0 0 8.6625 0]\n",
            " [3 0 1.0 4 1 39.6875 0]\n",
            " [3 0 9.0 0 2 20.525 0]\n",
            " [1 1 29.881137667304014 0 1 55.0 0]\n",
            " [3 1 45.0 1 4 27.9 0]\n",
            " [1 0 29.881137667304014 0 0 25.925 0]\n",
            " [3 0 28.0 0 0 56.4958 0]\n",
            " [1 0 61.0 0 0 33.5 0]\n",
            " [3 0 4.0 4 1 29.125 2]\n",
            " [3 1 1.0 1 1 11.1333 0]\n",
            " [3 0 21.0 0 0 7.925 0]\n",
            " [1 0 56.0 0 0 30.6958 1]\n",
            " [3 0 18.0 1 1 7.8542 0]\n",
            " [3 0 29.881137667304014 3 1 25.4667 0]\n",
            " [1 1 50.0 0 0 28.7125 1]\n",
            " [2 0 30.0 0 0 13.0 0]\n",
            " [3 0 36.0 0 0 0.0 0]\n",
            " [3 1 29.881137667304014 8 2 69.55 0]\n",
            " [2 0 29.881137667304014 0 0 15.05 1]\n",
            " [3 0 9.0 4 2 31.3875 0]\n",
            " [2 0 1.0 2 1 39.0 0]\n",
            " [3 1 4.0 0 2 22.025 0]\n",
            " [1 0 29.881137667304014 0 0 50.0 0]\n",
            " [3 1 29.881137667304014 1 0 15.5 2]\n",
            " [1 0 45.0 0 0 26.55 0]\n",
            " [3 0 40.0 1 1 15.5 2]\n",
            " [3 0 36.0 0 0 7.8958 0]\n",
            " [2 1 32.0 0 0 13.0 0]\n",
            " [2 0 19.0 0 0 13.0 0]\n",
            " [3 1 19.0 1 0 7.8542 0]\n",
            " [2 0 3.0 1 1 26.0 0]\n",
            " [1 1 44.0 0 0 27.7208 1]\n",
            " [1 1 58.0 0 0 146.5208 1]\n",
            " [3 0 29.881137667304014 0 0 7.75 2]\n",
            " [3 0 42.0 0 1 8.4042 0]\n",
            " [3 1 29.881137667304014 0 0 7.75 2]\n",
            " [2 1 24.0 0 0 13.0 0]]\n"
          ]
        }
      ]
    },
    {
      "cell_type": "code",
      "source": [
        "titanic_input"
      ],
      "metadata": {
        "colab": {
          "base_uri": "https://localhost:8080/"
        },
        "id": "xnEPuv-KJKpI",
        "outputId": "6cfa7274-9f96-40da-fad1-31e29af2f271"
      },
      "execution_count": 297,
      "outputs": [
        {
          "output_type": "execute_result",
          "data": {
            "text/plain": [
              "array([[3, 0, 22.0, ..., 0, 7.25, 0],\n",
              "       [1, 1, 38.0, ..., 0, 71.2833, 1],\n",
              "       [3, 1, 26.0, ..., 0, 7.925, 0],\n",
              "       ...,\n",
              "       [3, 0, 38.5, ..., 0, 7.25, 0],\n",
              "       [3, 0, 29.881137667304014, ..., 0, 8.05, 0],\n",
              "       [3, 0, 29.881137667304014, ..., 1, 22.3583, 1]], dtype=object)"
            ]
          },
          "metadata": {},
          "execution_count": 297
        }
      ]
    },
    {
      "cell_type": "code",
      "source": [
        "titanic_input"
      ],
      "metadata": {
        "colab": {
          "base_uri": "https://localhost:8080/"
        },
        "id": "n5gND07pJWSU",
        "outputId": "bd6ba9b9-4213-497d-a784-736ee9b527b0"
      },
      "execution_count": 298,
      "outputs": [
        {
          "output_type": "execute_result",
          "data": {
            "text/plain": [
              "array([[3, 0, 22.0, ..., 0, 7.25, 0],\n",
              "       [1, 1, 38.0, ..., 0, 71.2833, 1],\n",
              "       [3, 1, 26.0, ..., 0, 7.925, 0],\n",
              "       ...,\n",
              "       [3, 0, 38.5, ..., 0, 7.25, 0],\n",
              "       [3, 0, 29.881137667304014, ..., 0, 8.05, 0],\n",
              "       [3, 0, 29.881137667304014, ..., 1, 22.3583, 1]], dtype=object)"
            ]
          },
          "metadata": {},
          "execution_count": 298
        }
      ]
    },
    {
      "cell_type": "code",
      "source": [
        "titanic_target"
      ],
      "metadata": {
        "colab": {
          "base_uri": "https://localhost:8080/"
        },
        "id": "drLOWwj3JQcH",
        "outputId": "8408e871-c9b6-4e02-c712-c60f277ad2ae"
      },
      "execution_count": 299,
      "outputs": [
        {
          "output_type": "execute_result",
          "data": {
            "text/plain": [
              "array([0, 1, 1, ..., 1, 0, 1])"
            ]
          },
          "metadata": {},
          "execution_count": 299
        }
      ]
    },
    {
      "cell_type": "code",
      "source": [
        "has_string = any(isinstance(item, str) for item in titanic_input[:, 1])\n",
        "\n",
        "has_string"
      ],
      "metadata": {
        "colab": {
          "base_uri": "https://localhost:8080/"
        },
        "id": "M_vAbxUHJ8Pk",
        "outputId": "e91235e6-6f45-47c0-f689-69d846649484"
      },
      "execution_count": 300,
      "outputs": [
        {
          "output_type": "execute_result",
          "data": {
            "text/plain": [
              "True"
            ]
          },
          "metadata": {},
          "execution_count": 300
        }
      ]
    },
    {
      "cell_type": "code",
      "source": [
        "has_nan = pd.isna(titanic_input[:, 6]).any()\n",
        "has_nan"
      ],
      "metadata": {
        "colab": {
          "base_uri": "https://localhost:8080/"
        },
        "id": "lCJipJqvKqER",
        "outputId": "20cc846b-92e9-4f24-fd93-1d238316f58c"
      },
      "execution_count": 301,
      "outputs": [
        {
          "output_type": "execute_result",
          "data": {
            "text/plain": [
              "False"
            ]
          },
          "metadata": {},
          "execution_count": 301
        }
      ]
    },
    {
      "cell_type": "code",
      "source": [
        "print(titanic_input[150:200])"
      ],
      "metadata": {
        "colab": {
          "base_uri": "https://localhost:8080/"
        },
        "id": "GMa4CM_hLqv5",
        "outputId": "f9a53d12-9ab7-4518-8b1b-a4b7cfd5310a"
      },
      "execution_count": 302,
      "outputs": [
        {
          "output_type": "stream",
          "name": "stdout",
          "text": [
            "[[2 0 51.0 0 0 12.525 0]\n",
            " [1 1 22.0 1 0 66.6 0]\n",
            " [3 0 55.5 0 0 8.05 0]\n",
            " [3 0 40.5 0 2 14.5 0]\n",
            " [3 0 29.881137667304014 0 0 7.3125 0]\n",
            " [1 0 51.0 0 1 61.3792 1]\n",
            " [3 1 16.0 0 0 7.7333 2]\n",
            " [3 0 30.0 0 0 8.05 0]\n",
            " [3 0 29.881137667304014 0 0 8.6625 0]\n",
            " [3 0 29.881137667304014 8 2 69.55 0]\n",
            " [3 0 44.0 0 1 16.1 0]\n",
            " [2 1 40.0 0 0 15.75 0]\n",
            " [3 0 26.0 0 0 7.775 0]\n",
            " [3 0 17.0 0 0 8.6625 0]\n",
            " [3 0 1.0 4 1 39.6875 0]\n",
            " [3 0 9.0 0 2 20.525 0]\n",
            " [1 1 29.881137667304014 0 1 55.0 0]\n",
            " [3 1 45.0 1 4 27.9 0]\n",
            " [1 0 29.881137667304014 0 0 25.925 0]\n",
            " [3 0 28.0 0 0 56.4958 0]\n",
            " [1 0 61.0 0 0 33.5 0]\n",
            " [3 0 4.0 4 1 29.125 2]\n",
            " [3 1 1.0 1 1 11.1333 0]\n",
            " [3 0 21.0 0 0 7.925 0]\n",
            " [1 0 56.0 0 0 30.6958 1]\n",
            " [3 0 18.0 1 1 7.8542 0]\n",
            " [3 0 29.881137667304014 3 1 25.4667 0]\n",
            " [1 1 50.0 0 0 28.7125 1]\n",
            " [2 0 30.0 0 0 13.0 0]\n",
            " [3 0 36.0 0 0 0.0 0]\n",
            " [3 1 29.881137667304014 8 2 69.55 0]\n",
            " [2 0 29.881137667304014 0 0 15.05 1]\n",
            " [3 0 9.0 4 2 31.3875 0]\n",
            " [2 0 1.0 2 1 39.0 0]\n",
            " [3 1 4.0 0 2 22.025 0]\n",
            " [1 0 29.881137667304014 0 0 50.0 0]\n",
            " [3 1 29.881137667304014 1 0 15.5 2]\n",
            " [1 0 45.0 0 0 26.55 0]\n",
            " [3 0 40.0 1 1 15.5 2]\n",
            " [3 0 36.0 0 0 7.8958 0]\n",
            " [2 1 32.0 0 0 13.0 0]\n",
            " [2 0 19.0 0 0 13.0 0]\n",
            " [3 1 19.0 1 0 7.8542 0]\n",
            " [2 0 3.0 1 1 26.0 0]\n",
            " [1 1 44.0 0 0 27.7208 1]\n",
            " [1 1 58.0 0 0 146.5208 1]\n",
            " [3 0 29.881137667304014 0 0 7.75 2]\n",
            " [3 0 42.0 0 1 8.4042 0]\n",
            " [3 1 29.881137667304014 0 0 7.75 2]\n",
            " [2 1 24.0 0 0 13.0 0]]\n"
          ]
        }
      ]
    },
    {
      "cell_type": "code",
      "source": [
        "titanic_input"
      ],
      "metadata": {
        "colab": {
          "base_uri": "https://localhost:8080/"
        },
        "id": "ffTW_CPwOWyO",
        "outputId": "01d142ff-178f-4818-ed31-9953343cfb9b"
      },
      "execution_count": 303,
      "outputs": [
        {
          "output_type": "execute_result",
          "data": {
            "text/plain": [
              "array([[3, 0, 22.0, ..., 0, 7.25, 0],\n",
              "       [1, 1, 38.0, ..., 0, 71.2833, 1],\n",
              "       [3, 1, 26.0, ..., 0, 7.925, 0],\n",
              "       ...,\n",
              "       [3, 0, 38.5, ..., 0, 7.25, 0],\n",
              "       [3, 0, 29.881137667304014, ..., 0, 8.05, 0],\n",
              "       [3, 0, 29.881137667304014, ..., 1, 22.3583, 1]], dtype=object)"
            ]
          },
          "metadata": {},
          "execution_count": 303
        }
      ]
    },
    {
      "cell_type": "markdown",
      "source": [
        "SGD 분류를 하려고 하니\n",
        "\n",
        "ValueError: could not convert string to float: 'S'\n",
        "\n",
        "이 에러가 떠서 'S' 가 있는 행과 열 인덱스를 찾아서 숫자로 매핑하려고 한다."
      ],
      "metadata": {
        "id": "O4VYxiQ6QnAn"
      }
    },
    {
      "cell_type": "code",
      "source": [
        "row, col = np.where(titanic_input =='S')\n",
        "row"
      ],
      "metadata": {
        "colab": {
          "base_uri": "https://localhost:8080/"
        },
        "id": "ipcTYC01Phzx",
        "outputId": "fa5650de-99ad-42ec-ac8d-9ea381c341b9"
      },
      "execution_count": 304,
      "outputs": [
        {
          "output_type": "execute_result",
          "data": {
            "text/plain": [
              "array([ 61,  61,  61,  61,  61,  61, 829, 829, 829, 829, 829, 829])"
            ]
          },
          "metadata": {},
          "execution_count": 304
        }
      ]
    },
    {
      "cell_type": "code",
      "source": [
        "col"
      ],
      "metadata": {
        "colab": {
          "base_uri": "https://localhost:8080/"
        },
        "id": "Wz718kj2QeSD",
        "outputId": "f0037ded-f3e8-4cf4-f06c-775b47b51aa1"
      },
      "execution_count": 305,
      "outputs": [
        {
          "output_type": "execute_result",
          "data": {
            "text/plain": [
              "array([0, 1, 2, 3, 4, 5, 0, 1, 2, 3, 4, 5])"
            ]
          },
          "metadata": {},
          "execution_count": 305
        }
      ]
    },
    {
      "cell_type": "code",
      "source": [
        "import numpy as np\n",
        "\n",
        "# 주어진 배열\n",
        "titanic_input[[61, 829], :6] = 0\n",
        "\n"
      ],
      "metadata": {
        "id": "D7QKenUHQgjb"
      },
      "execution_count": 306,
      "outputs": []
    },
    {
      "cell_type": "code",
      "source": [
        "train_input, test_input, train_target, test_target = train_test_split(\n",
        "    titanic_input, titanic_target, test_size=0.2, random_state=202034926\n",
        ")"
      ],
      "metadata": {
        "id": "iYASFtm5Rj0-"
      },
      "execution_count": 307,
      "outputs": []
    },
    {
      "cell_type": "markdown",
      "source": [
        "# **SGD 분류**"
      ],
      "metadata": {
        "id": "X7BfNo0XHBWl"
      }
    },
    {
      "cell_type": "code",
      "source": [
        "from sklearn.preprocessing import StandardScaler\n",
        "\n",
        "ss = StandardScaler()\n",
        "ss.fit(train_input)\n",
        "train_scaled = ss.transform(train_input)\n",
        "test_scaled = ss.transform(test_input)"
      ],
      "metadata": {
        "id": "f66RnNA_N3ST"
      },
      "execution_count": 308,
      "outputs": []
    },
    {
      "cell_type": "markdown",
      "source": [
        "표준화 전처리"
      ],
      "metadata": {
        "id": "hd6iJiHLXqVz"
      }
    },
    {
      "cell_type": "code",
      "source": [
        "nan = np.isnan(train_scaled)\n",
        "index = np.where(nan)\n",
        "index"
      ],
      "metadata": {
        "colab": {
          "base_uri": "https://localhost:8080/"
        },
        "id": "G9P690rqUyTX",
        "outputId": "3a97a1cb-0ae2-43de-bcf6-10c88ae097e1"
      },
      "execution_count": 309,
      "outputs": [
        {
          "output_type": "execute_result",
          "data": {
            "text/plain": [
              "(array([278]), array([5]))"
            ]
          },
          "metadata": {},
          "execution_count": 309
        }
      ]
    },
    {
      "cell_type": "code",
      "source": [
        "train_scaled[278, 5] = 0"
      ],
      "metadata": {
        "id": "-YraCahyXfCC"
      },
      "execution_count": 310,
      "outputs": []
    },
    {
      "cell_type": "code",
      "source": [
        "from sklearn.linear_model import SGDClassifier\n",
        "\n",
        "sc = SGDClassifier(loss='log', max_iter=10, random_state=202034926)\n",
        "sc.fit(train_scaled, train_target)\n",
        "print(sc.score(train_scaled, train_target))\n",
        "print(sc.score(test_scaled, test_target))"
      ],
      "metadata": {
        "colab": {
          "base_uri": "https://localhost:8080/"
        },
        "id": "w32medGSTrK9",
        "outputId": "a76a5152-8b3c-4891-dd21-584de835a74d"
      },
      "execution_count": 311,
      "outputs": [
        {
          "output_type": "stream",
          "name": "stdout",
          "text": [
            "0.6867239732569246\n",
            "0.6412213740458015\n"
          ]
        },
        {
          "output_type": "stream",
          "name": "stderr",
          "text": [
            "/usr/local/lib/python3.10/dist-packages/sklearn/linear_model/_stochastic_gradient.py:163: FutureWarning: The loss 'log' was deprecated in v1.1 and will be removed in version 1.3. Use `loss='log_loss'` which is equivalent.\n",
            "  warnings.warn(\n",
            "/usr/local/lib/python3.10/dist-packages/sklearn/linear_model/_stochastic_gradient.py:702: ConvergenceWarning: Maximum number of iteration reached before convergence. Consider increasing max_iter to improve the fit.\n",
            "  warnings.warn(\n"
          ]
        }
      ]
    },
    {
      "cell_type": "code",
      "source": [
        "sc = SGDClassifier(loss='hinge', max_iter=10, random_state=202034926)\n",
        "sc.fit(train_scaled, train_target)\n",
        "print(sc.score(train_scaled, train_target))\n",
        "print(sc.score(test_scaled, test_target))"
      ],
      "metadata": {
        "colab": {
          "base_uri": "https://localhost:8080/"
        },
        "id": "fsQRt4OlYfHe",
        "outputId": "47f92424-a390-4ddb-bdd7-da5780124824"
      },
      "execution_count": 312,
      "outputs": [
        {
          "output_type": "stream",
          "name": "stdout",
          "text": [
            "0.6895893027698186\n",
            "0.6335877862595419\n"
          ]
        },
        {
          "output_type": "stream",
          "name": "stderr",
          "text": [
            "/usr/local/lib/python3.10/dist-packages/sklearn/linear_model/_stochastic_gradient.py:702: ConvergenceWarning: Maximum number of iteration reached before convergence. Consider increasing max_iter to improve the fit.\n",
            "  warnings.warn(\n"
          ]
        }
      ]
    },
    {
      "cell_type": "code",
      "source": [
        "sc = SGDClassifier(loss='hinge', max_iter=100, random_state=202034926)\n",
        "sc.fit(train_scaled, train_target)\n",
        "print(sc.score(train_scaled, train_target))\n",
        "print(sc.score(test_scaled, test_target))"
      ],
      "metadata": {
        "colab": {
          "base_uri": "https://localhost:8080/"
        },
        "id": "ZVWFWW52UNd2",
        "outputId": "bc805685-b110-4082-cacf-73da3a054b06"
      },
      "execution_count": 313,
      "outputs": [
        {
          "output_type": "stream",
          "name": "stdout",
          "text": [
            "0.7125119388729704\n",
            "0.7099236641221374\n"
          ]
        }
      ]
    },
    {
      "cell_type": "code",
      "source": [
        "sc = SGDClassifier(loss='hinge', max_iter=100, tol=None, random_state=202034926)\n",
        "sc.fit(train_scaled, train_target)\n",
        "print(sc.score(train_scaled, train_target))\n",
        "print(sc.score(test_scaled, test_target))"
      ],
      "metadata": {
        "colab": {
          "base_uri": "https://localhost:8080/"
        },
        "id": "seMfy-OIYlrO",
        "outputId": "89bb8b38-e8bf-4d69-fdaa-563e8c003ae9"
      },
      "execution_count": 314,
      "outputs": [
        {
          "output_type": "stream",
          "name": "stdout",
          "text": [
            "0.720152817574021\n",
            "0.6717557251908397\n"
          ]
        }
      ]
    },
    {
      "cell_type": "markdown",
      "source": [
        "# **결정트리**"
      ],
      "metadata": {
        "id": "jDvtd-xhY0yr"
      }
    },
    {
      "cell_type": "code",
      "source": [
        "from sklearn.tree import DecisionTreeClassifier\n",
        "dt = DecisionTreeClassifier(random_state=202034926)\n",
        "dt.fit(train_scaled, train_target)\n",
        "print(dt.score(train_scaled, train_target))\n",
        "print(dt.score(test_scaled, test_target))"
      ],
      "metadata": {
        "colab": {
          "base_uri": "https://localhost:8080/"
        },
        "id": "nMbwOz9oY2u3",
        "outputId": "03ae20b6-f826-4e96-e2b9-9fa62259c61c"
      },
      "execution_count": 315,
      "outputs": [
        {
          "output_type": "stream",
          "name": "stdout",
          "text": [
            "0.9570200573065902\n",
            "0.683206106870229\n"
          ]
        }
      ]
    },
    {
      "cell_type": "code",
      "source": [
        "dt = DecisionTreeClassifier(max_depth=3, random_state=202034926)\n",
        "dt.fit(train_scaled, train_target)\n",
        "print(dt.score(train_scaled, train_target))\n",
        "print(dt.score(test_scaled, test_target))"
      ],
      "metadata": {
        "colab": {
          "base_uri": "https://localhost:8080/"
        },
        "id": "HVzDv7PjZa-4",
        "outputId": "15e7b7e3-f8f0-48fd-f09f-357f46e7b3a1"
      },
      "execution_count": 316,
      "outputs": [
        {
          "output_type": "stream",
          "name": "stdout",
          "text": [
            "0.7602674307545367\n",
            "0.7061068702290076\n"
          ]
        }
      ]
    },
    {
      "cell_type": "markdown",
      "source": [
        "# **랜덤포레스트**"
      ],
      "metadata": {
        "id": "JGC2CnTaZ-nl"
      }
    },
    {
      "cell_type": "markdown",
      "source": [
        "처음 랜덤포레스트를 하였더니\n",
        "\n",
        "score 값이 nan nan 이 나와서\n",
        "\n",
        "nan 값이 있는 행과 열 값을 찾아서 nan 값을 평균값으로 대체하였다.\n"
      ],
      "metadata": {
        "id": "ChObvjgGob9a"
      }
    },
    {
      "cell_type": "code",
      "source": [
        "nan = train_input != train_input\n",
        "row, col = np.where(nan)\n",
        "print(row)\n",
        "print(col)"
      ],
      "metadata": {
        "colab": {
          "base_uri": "https://localhost:8080/"
        },
        "id": "DYBB2QAwZip3",
        "outputId": "eb517ddc-ce8f-46c7-e683-1e9412442311"
      },
      "execution_count": 317,
      "outputs": [
        {
          "output_type": "stream",
          "name": "stdout",
          "text": [
            "[278]\n",
            "[5]\n"
          ]
        }
      ]
    },
    {
      "cell_type": "code",
      "source": [
        "train_input[[278, 5]] = np.nanmean(train_input)"
      ],
      "metadata": {
        "id": "F1ZMMbD-nw_H"
      },
      "execution_count": 318,
      "outputs": []
    },
    {
      "cell_type": "code",
      "source": [
        "from sklearn.model_selection import cross_validate\n",
        "from sklearn.ensemble import RandomForestClassifier\n",
        "\n",
        "rf = RandomForestClassifier(n_jobs=-1, random_state=202034926)\n",
        "scores = cross_validate(rf, train_input, train_target,\n",
        "                        return_train_score=True, n_jobs=-1)\n",
        "print(np.mean(scores['train_score']), np.mean(scores['test_score']))"
      ],
      "metadata": {
        "colab": {
          "base_uri": "https://localhost:8080/"
        },
        "id": "NNQKZ98QbbD0",
        "outputId": "8590a136-b524-47e9-8665-ef3033320616"
      },
      "execution_count": 319,
      "outputs": [
        {
          "output_type": "stream",
          "name": "stdout",
          "text": [
            "0.9606019908583615 0.7249213943950786\n"
          ]
        }
      ]
    },
    {
      "cell_type": "code",
      "source": [
        "# 특성 중요도 출력\n",
        "rf.fit(train_input, train_target)\n",
        "print(rf.feature_importances_)"
      ],
      "metadata": {
        "colab": {
          "base_uri": "https://localhost:8080/"
        },
        "id": "mOGc-arFpA2d",
        "outputId": "1f05624c-12eb-4542-eb50-a6075dc97a29"
      },
      "execution_count": 320,
      "outputs": [
        {
          "output_type": "stream",
          "name": "stdout",
          "text": [
            "[0.06366793 0.14684871 0.34235448 0.05288007 0.04651822 0.30762097\n",
            " 0.04010961]\n"
          ]
        }
      ]
    },
    {
      "cell_type": "code",
      "source": [
        "rf = RandomForestClassifier(oob_score=True, n_jobs=-1, random_state=202034926)\n",
        "rf.fit(train_input, train_target)\n",
        "print(rf.oob_score_)"
      ],
      "metadata": {
        "colab": {
          "base_uri": "https://localhost:8080/"
        },
        "id": "Y2uIBhlbpKtc",
        "outputId": "06501667-766d-42af-a0af-a716e9ef819f"
      },
      "execution_count": 321,
      "outputs": [
        {
          "output_type": "stream",
          "name": "stdout",
          "text": [
            "0.725883476599809\n"
          ]
        }
      ]
    },
    {
      "cell_type": "code",
      "source": [
        "rf = RandomForestClassifier(n_estimators=100, n_jobs=-1, random_state=202034926)\n",
        "scores = cross_validate(rf, train_input, train_target,\n",
        "                        return_train_score=True, n_jobs=-1)\n",
        "print(np.mean(scores['train_score']), np.mean(scores['test_score']))"
      ],
      "metadata": {
        "colab": {
          "base_uri": "https://localhost:8080/"
        },
        "id": "m6Q1UL3MqrZh",
        "outputId": "8ea935e4-0d5c-415c-9691-8788c479a295"
      },
      "execution_count": 325,
      "outputs": [
        {
          "output_type": "stream",
          "name": "stdout",
          "text": [
            "0.9606019908583615 0.7249213943950786\n"
          ]
        }
      ]
    },
    {
      "cell_type": "code",
      "source": [
        "rf = RandomForestClassifier(n_estimators=500, n_jobs=-1, random_state=202034926)\n",
        "scores = cross_validate(rf, train_input, train_target,\n",
        "                        return_train_score=True, n_jobs=-1)\n",
        "print(np.mean(scores['train_score']), np.mean(scores['test_score']))"
      ],
      "metadata": {
        "colab": {
          "base_uri": "https://localhost:8080/"
        },
        "id": "-eMmBHM1phqi",
        "outputId": "3bc540ee-09c6-4dfa-e846-77ce184026ba"
      },
      "execution_count": 324,
      "outputs": [
        {
          "output_type": "stream",
          "name": "stdout",
          "text": [
            "0.9608406543428485 0.7277876509455458\n"
          ]
        }
      ]
    },
    {
      "cell_type": "markdown",
      "source": [
        "# **히스토그램기반 그레이디언트 부스팅**"
      ],
      "metadata": {
        "id": "4LfHaN9up3yJ"
      }
    },
    {
      "cell_type": "code",
      "source": [
        "from sklearn.experimental import enable_hist_gradient_boosting\n",
        "from sklearn.ensemble import HistGradientBoostingClassifier\n",
        "\n",
        "hgb = HistGradientBoostingClassifier(random_state=202034926)\n",
        "scores = cross_validate(hgb, train_input, train_target,\n",
        "                        return_train_score=True)\n",
        "print(np.mean(scores['train_score']), np.mean(scores['test_score']))"
      ],
      "metadata": {
        "colab": {
          "base_uri": "https://localhost:8080/"
        },
        "id": "QBgm698Bpz4J",
        "outputId": "b355ac37-38ce-4858-cc66-66ee177e27d1"
      },
      "execution_count": 326,
      "outputs": [
        {
          "output_type": "stream",
          "name": "stderr",
          "text": [
            "/usr/local/lib/python3.10/dist-packages/sklearn/experimental/enable_hist_gradient_boosting.py:16: UserWarning: Since version 1.0, it is not needed to import enable_hist_gradient_boosting anymore. HistGradientBoostingClassifier and HistGradientBoostingRegressor are now stable and can be normally imported from sklearn.ensemble.\n",
            "  warnings.warn(\n"
          ]
        },
        {
          "output_type": "stream",
          "name": "stdout",
          "text": [
            "0.90138578797444 0.7248894964684439\n"
          ]
        }
      ]
    },
    {
      "cell_type": "code",
      "source": [
        "from sklearn.inspection import permutation_importance\n",
        "\n",
        "hgb.fit(train_input, train_target)\n",
        "result = permutation_importance(hgb, train_input, train_target,\n",
        "                                n_repeats=10, random_state=202034926, n_jobs=-1)\n",
        "print(result.importances_mean)"
      ],
      "metadata": {
        "colab": {
          "base_uri": "https://localhost:8080/"
        },
        "id": "MSsuran4rC9T",
        "outputId": "d7f929a2-9191-4c92-ba8b-6f51198cc99f"
      },
      "execution_count": 327,
      "outputs": [
        {
          "output_type": "stream",
          "name": "stdout",
          "text": [
            "[0.09121299 0.17688634 0.15854823 0.03533906 0.02120344 0.14765998\n",
            " 0.03104107]\n"
          ]
        }
      ]
    },
    {
      "cell_type": "code",
      "source": [
        "hgb.score(test_input, test_target)"
      ],
      "metadata": {
        "colab": {
          "base_uri": "https://localhost:8080/"
        },
        "id": "ThX8Hstmrg35",
        "outputId": "8e97b71d-abdf-4f4b-f4ad-975aff2a2bdc"
      },
      "execution_count": 328,
      "outputs": [
        {
          "output_type": "execute_result",
          "data": {
            "text/plain": [
              "0.6984732824427481"
            ]
          },
          "metadata": {},
          "execution_count": 328
        }
      ]
    }
  ]
}