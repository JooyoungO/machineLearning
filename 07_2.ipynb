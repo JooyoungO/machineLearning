{
  "nbformat": 4,
  "nbformat_minor": 0,
  "metadata": {
    "colab": {
      "provenance": [],
      "authorship_tag": "ABX9TyOecJ/pLMGrgsCtX0AqXewb",
      "include_colab_link": true
    },
    "kernelspec": {
      "name": "python3",
      "display_name": "Python 3"
    },
    "language_info": {
      "name": "python"
    }
  },
  "cells": [
    {
      "cell_type": "markdown",
      "metadata": {
        "id": "view-in-github",
        "colab_type": "text"
      },
      "source": [
        "<a href=\"https://colab.research.google.com/github/JooyoungO/machineLearning/blob/main/07_2.ipynb\" target=\"_parent\"><img src=\"https://colab.research.google.com/assets/colab-badge.svg\" alt=\"Open In Colab\"/></a>"
      ]
    },
    {
      "cell_type": "markdown",
      "source": [
        "# **심층 신경망**\n",
        "\n",
        "  * 2개 이상의 층을 포함한 신경망\n",
        "\n",
        "  * 종종 다층 인공 신겸아, 심층 신경망, 딥런이을 같은 의미로 사용"
      ],
      "metadata": {
        "id": "KMAa9fWhJYZb"
      }
    },
    {
      "cell_type": "markdown",
      "source": [
        "# **데이터 준비**"
      ],
      "metadata": {
        "id": "-vYT2NAfN_zD"
      }
    },
    {
      "cell_type": "code",
      "execution_count": 1,
      "metadata": {
        "id": "natjYC4wGn_w"
      },
      "outputs": [],
      "source": [
        "# 실행마다 동일한 결과를 얻기 위해 케라스에 랜덤 시드를 사용하고 텐서플로 연산을 결정적으로 만듭니다.\n",
        "import tensorflow as tf\n",
        "\n",
        "tf.keras.utils.set_random_seed(42)\n",
        "tf.config.experimental.enable_op_determinism()"
      ]
    },
    {
      "cell_type": "markdown",
      "source": [
        "# **2개의 층**"
      ],
      "metadata": {
        "id": "hjxnS0_UJdx1"
      }
    },
    {
      "cell_type": "markdown",
      "source": [
        "**은닉층**\n",
        "\n",
        "입력층과 출력층 사이에 있는 모든 층\n",
        "\n",
        "출력층에서는 스프트맥스나 시그모이드 함수를 써야 함\n",
        "\n",
        "그러나 은닉층은 활성화 함수의 선택이 자유로움\n",
        "\n",
        "**왜 은닉층에 활성화 함수를 적용하는가?**\n",
        "\n",
        "활성화 함수없이 은닉층만 있다면 의미가 없기 때문\n",
        "\n",
        "예를 들어, 아래 두 선형 방정식이 있다고 가정하면\n",
        "\n",
        "a * 4 + 2 = b\n",
        "\n",
        "b * 3 - 5 = c\n",
        "\n",
        "결국 a * 12 + 1 = c가 되므로\n",
        "\n",
        "첫 번째 선형 방정식은 의미가 없어진다.\n",
        "\n"
      ],
      "metadata": {
        "id": "LLG9SDKgO3IB"
      }
    },
    {
      "cell_type": "code",
      "source": [
        "from tensorflow import keras\n",
        "\n",
        "(train_input, train_target), (test_input, test_target) = keras.datasets.fashion_mnist.load_data()"
      ],
      "metadata": {
        "colab": {
          "base_uri": "https://localhost:8080/"
        },
        "id": "30tsI6V1JdbN",
        "outputId": "0fc8dc95-f8ae-4339-a8b2-0ed733fd3579"
      },
      "execution_count": 2,
      "outputs": [
        {
          "output_type": "stream",
          "name": "stdout",
          "text": [
            "Downloading data from https://storage.googleapis.com/tensorflow/tf-keras-datasets/train-labels-idx1-ubyte.gz\n",
            "29515/29515 [==============================] - 0s 1us/step\n",
            "Downloading data from https://storage.googleapis.com/tensorflow/tf-keras-datasets/train-images-idx3-ubyte.gz\n",
            "26421880/26421880 [==============================] - 0s 0us/step\n",
            "Downloading data from https://storage.googleapis.com/tensorflow/tf-keras-datasets/t10k-labels-idx1-ubyte.gz\n",
            "5148/5148 [==============================] - 0s 0us/step\n",
            "Downloading data from https://storage.googleapis.com/tensorflow/tf-keras-datasets/t10k-images-idx3-ubyte.gz\n",
            "4422102/4422102 [==============================] - 0s 0us/step\n"
          ]
        }
      ]
    },
    {
      "cell_type": "code",
      "source": [
        "from sklearn.model_selection import train_test_split\n",
        "\n",
        "train_scaled = train_input / 255.0\n",
        "train_scaled = train_scaled.reshape(-1, 28*28)  # 1차원 리스트로 변환\n",
        "\n",
        "train_scaled, val_scaled, train_target, val_target = train_test_split(\n",
        "    train_scaled, train_target, test_size=0.2, random_state=42)"
      ],
      "metadata": {
        "id": "IIn9zEgwJpUx"
      },
      "execution_count": 3,
      "outputs": []
    },
    {
      "cell_type": "markdown",
      "source": [
        "dense1 : 은닉층, 100개의 뉴런을 가지는 밀집층\n",
        "\n",
        "은닉층의 뉴런 개수를 정하는 데는 특별한 기준이 ㅇ벗음\n",
        "\n",
        "따라서 몇 개의 뉴런을 두어야 할지 판단하기 위해서는 상당한 경험이 필요함\n",
        "\n",
        "한가지 제약 사항은 적어도 출력층의 뉴런보다는 많게 만들어야 함"
      ],
      "metadata": {
        "id": "dtoj4dg6Pko8"
      }
    },
    {
      "cell_type": "markdown",
      "source": [
        "dense2 : 출력층, 10개의 클래스를 분류하므로 10개의 뉴런을 설정하고 활성화 함수로 소프트맥수 함수를 지정\n",
        "\n",
        "또한 첫 번째 밀집층이 아니므로 input_shape를 지정할 필요가 없음"
      ],
      "metadata": {
        "id": "gk34b15yPvTk"
      }
    },
    {
      "cell_type": "code",
      "source": [
        "dense1 = keras.layers.Dense(100, activation='sigmoid', input_shape=(784,))\n",
        "dense2 = keras.layers.Dense(10, activation='softmax')"
      ],
      "metadata": {
        "id": "9fp897WeJrxD"
      },
      "execution_count": 4,
      "outputs": []
    },
    {
      "cell_type": "markdown",
      "source": [
        "# **심층 신경망 만들기**"
      ],
      "metadata": {
        "id": "YB9psmffJmXs"
      }
    },
    {
      "cell_type": "markdown",
      "source": [
        "심층 신경망 만들기"
      ],
      "metadata": {
        "id": "z8C5tay_P3Vz"
      }
    },
    {
      "cell_type": "code",
      "source": [
        "model = keras.Sequential([dense1, dense2])"
      ],
      "metadata": {
        "id": "s6uCdaRLJvVk"
      },
      "execution_count": 5,
      "outputs": []
    },
    {
      "cell_type": "markdown",
      "source": [
        "인공 신경망의 강력한 성능은 이렇게 층을 리스트로 추가하여 입력 데이터에 대해 연속적인 학습을 진행하는 능력에서 나옴"
      ],
      "metadata": {
        "id": "s2HQIHnIP69J"
      }
    },
    {
      "cell_type": "code",
      "source": [
        "model.summary()"
      ],
      "metadata": {
        "colab": {
          "base_uri": "https://localhost:8080/"
        },
        "id": "fFsg_7XKJxJJ",
        "outputId": "a2784579-89c2-49ac-9dec-3159eff5c0f7"
      },
      "execution_count": 6,
      "outputs": [
        {
          "output_type": "stream",
          "name": "stdout",
          "text": [
            "Model: \"sequential\"\n",
            "_________________________________________________________________\n",
            " Layer (type)                Output Shape              Param #   \n",
            "=================================================================\n",
            " dense (Dense)               (None, 100)               78500     \n",
            "                                                                 \n",
            " dense_1 (Dense)             (None, 10)                1010      \n",
            "                                                                 \n",
            "=================================================================\n",
            "Total params: 79510 (310.59 KB)\n",
            "Trainable params: 79510 (310.59 KB)\n",
            "Non-trainable params: 0 (0.00 Byte)\n",
            "_________________________________________________________________\n"
          ]
        }
      ]
    },
    {
      "cell_type": "markdown",
      "source": [
        "Model: \"sequential\" <- 모델 이름\n",
        "\n",
        "이 모델에 들어 있는 층이 순서대로 나열\n",
        "\n",
        "층마다 층 이름, 클래스, 출력 크기, 모델 파라미터 개수가 출력\n",
        "\n",
        "층을 만들 때 name 매개변수로 이름 지정 가능\n",
        "\n",
        "미지정시 자동으로 dense로 지정\n",
        "\n",
        "\n",
        "---\n",
        "\n",
        "\n",
        "\n",
        "츌력 크기의 (None, 100)에서 첫 번째 차원은 샘플의 개수를 나타냄\n",
        "\n",
        "현재 샘플 개수가 아직 정의되어 있지 않기 때문에 None\n",
        "\n",
        "(784,)은 한 샘플의 크기를 뜻하는 거지 샘플이ㅡ 수를 뜻하지 않음\n",
        "\n",
        "케라스 모델은 fit() 메서드에 훈련 데이터를 주입하면 이 데이터를 한번에 모두 사용하지 않고 잘게 나누어 여러 번에 걸쳐 경사 하강법 단계를 스행\n",
        "\n",
        "-> 미니 배치 경사 하강법\n",
        "\n",
        "케라스의 기본 미니배치의 크기는 32이며 fit() 메서드에서 batch_size 매개변수로 조절 가능\n",
        "\n",
        "따라서 샘플 개수를 고정하지 않고 어떤 배치 크기에도 유연하게 대응할 수 있도록 None이 됨\n",
        "\n",
        "이렇게 신경망 층에 입력되거나 출력되는 배열의 첫 번째 차원을 배치 차원이라고 함\n",
        "\n",
        "두 번째 차원은 뉴런 개수 또는 출력 개수\n",
        "\n",
        "즉, 샘플마다 784개의 픽셀값이 은닉층을 통과하면서 100개의 특성으로 압축됨\n",
        "\n",
        "\n",
        "\n",
        "---\n",
        "\n",
        "모델 파라미터 개수\n",
        "\n",
        "(입력값 개수 + 1) * 뉴런 개수\n",
        "\n",
        "마지막에는 총 모델 파라미터 개수, 훈련된 파라미터 개수 그리고 훈련되지 않는 파라미터 개수가 나옴\n",
        "\n",
        "간혹 경사 하강법으로 훈련되지 않는 파라미터를 가진 층이 있음\n"
      ],
      "metadata": {
        "id": "y62DU-MTQpWV"
      }
    },
    {
      "cell_type": "markdown",
      "source": [
        "# **층을 추가하는 다른 방법**"
      ],
      "metadata": {
        "id": "zt6PV5zjJz-Y"
      }
    },
    {
      "cell_type": "markdown",
      "source": [
        "**1**"
      ],
      "metadata": {
        "id": "bImpq39CTctx"
      }
    },
    {
      "cell_type": "markdown",
      "source": [
        "따로 Dense 클래스에 객체 dense1, dense2 를 주입하는 것이 아니라\n",
        "\n",
        "Sequential 클래스 생성자 안에 바로 Dense 클래스의 객체 생성\n",
        "\n",
        "추가되는 층으로 한눈에 손쉽게 알아볼 수 있음\n",
        "\n",
        "모델의 이름과는 다르게 층의 이름은 반드시 영문이어야 함"
      ],
      "metadata": {
        "id": "R5tYVkSVSdGU"
      }
    },
    {
      "cell_type": "code",
      "source": [
        "model = keras.Sequential([\n",
        "    keras.layers.Dense(100, activation='sigmoid', input_shape=(784,), name='hidden'),\n",
        "    keras.layers.Dense(10, activation='softmax', name='output')\n",
        "], name='패션 MNIST 모델')"
      ],
      "metadata": {
        "id": "SJHL3xqlJ2BM"
      },
      "execution_count": 7,
      "outputs": []
    },
    {
      "cell_type": "code",
      "source": [
        "model.summary()"
      ],
      "metadata": {
        "colab": {
          "base_uri": "https://localhost:8080/"
        },
        "id": "KzjxqFfHJ39t",
        "outputId": "63ff2f3f-35ed-4737-9160-0e8cb05a2e81"
      },
      "execution_count": 8,
      "outputs": [
        {
          "output_type": "stream",
          "name": "stdout",
          "text": [
            "Model: \"패션 MNIST 모델\"\n",
            "_________________________________________________________________\n",
            " Layer (type)                Output Shape              Param #   \n",
            "=================================================================\n",
            " hidden (Dense)              (None, 100)               78500     \n",
            "                                                                 \n",
            " output (Dense)              (None, 10)                1010      \n",
            "                                                                 \n",
            "=================================================================\n",
            "Total params: 79510 (310.59 KB)\n",
            "Trainable params: 79510 (310.59 KB)\n",
            "Non-trainable params: 0 (0.00 Byte)\n",
            "_________________________________________________________________\n"
          ]
        }
      ]
    },
    {
      "cell_type": "markdown",
      "source": [
        "**2**\n",
        "\n",
        "Sequential 클래스의 객체를 만들고 add() 메서드를 호출하여 층을 추가"
      ],
      "metadata": {
        "id": "4XNwAzZUTLHb"
      }
    },
    {
      "cell_type": "code",
      "source": [
        "model = keras.Sequential()\n",
        "model.add(keras.layers.Dense(100, activation='sigmoid', input_shape=(784,)))\n",
        "model.add(keras.layers.Dense(10, activation='softmax'))"
      ],
      "metadata": {
        "id": "Gx7IkUYgJ5Ww"
      },
      "execution_count": 9,
      "outputs": []
    },
    {
      "cell_type": "code",
      "source": [
        "model.summary()"
      ],
      "metadata": {
        "colab": {
          "base_uri": "https://localhost:8080/"
        },
        "id": "dhITieUPJ7DB",
        "outputId": "fc7b1efe-11d3-4a32-ae06-f651a63dbf4a"
      },
      "execution_count": 10,
      "outputs": [
        {
          "output_type": "stream",
          "name": "stdout",
          "text": [
            "Model: \"sequential_1\"\n",
            "_________________________________________________________________\n",
            " Layer (type)                Output Shape              Param #   \n",
            "=================================================================\n",
            " dense_2 (Dense)             (None, 100)               78500     \n",
            "                                                                 \n",
            " dense_3 (Dense)             (None, 10)                1010      \n",
            "                                                                 \n",
            "=================================================================\n",
            "Total params: 79510 (310.59 KB)\n",
            "Trainable params: 79510 (310.59 KB)\n",
            "Non-trainable params: 0 (0.00 Byte)\n",
            "_________________________________________________________________\n"
          ]
        }
      ]
    },
    {
      "cell_type": "code",
      "source": [
        "model.compile(loss='sparse_categorical_crossentropy', metrics='accuracy')\n",
        "\n",
        "model.fit(train_scaled, train_target, epochs=5)"
      ],
      "metadata": {
        "colab": {
          "base_uri": "https://localhost:8080/"
        },
        "id": "P61PE5h4J9FW",
        "outputId": "bcfb58f0-6364-489b-867b-4618b17e51f4"
      },
      "execution_count": 11,
      "outputs": [
        {
          "output_type": "stream",
          "name": "stdout",
          "text": [
            "Epoch 1/5\n",
            "1500/1500 [==============================] - 6s 3ms/step - loss: 0.5710 - accuracy: 0.8064\n",
            "Epoch 2/5\n",
            "1500/1500 [==============================] - 7s 4ms/step - loss: 0.4132 - accuracy: 0.8509\n",
            "Epoch 3/5\n",
            "1500/1500 [==============================] - 5s 4ms/step - loss: 0.3776 - accuracy: 0.8646\n",
            "Epoch 4/5\n",
            "1500/1500 [==============================] - 7s 5ms/step - loss: 0.3530 - accuracy: 0.8732\n",
            "Epoch 5/5\n",
            "1500/1500 [==============================] - 6s 4ms/step - loss: 0.3344 - accuracy: 0.8782\n"
          ]
        },
        {
          "output_type": "execute_result",
          "data": {
            "text/plain": [
              "<keras.src.callbacks.History at 0x7cc521cd79d0>"
            ]
          },
          "metadata": {},
          "execution_count": 11
        }
      ]
    },
    {
      "cell_type": "markdown",
      "source": [
        "# **렐루(ReLU) 활성화 함수**"
      ],
      "metadata": {
        "id": "x5wanBvZJ_-F"
      }
    },
    {
      "cell_type": "markdown",
      "source": [
        "입력이 양수일 때, 입력을 그대로 통과시키고 음수일 경우 0으로 설정함\n",
        "\n",
        "렐루 함수는 max(0, z)와 같이 쓸 수 있음\n",
        "\n",
        "이 함수는 z가 0보다 크면 z를 출력하고 z가 0보다 작으면 0을 출력\n",
        "\n",
        "렐루 함수는 특히 이미지 처리에서 좋은 성능을 낸다고 알려짐"
      ],
      "metadata": {
        "id": "yuXbx6xHXRhy"
      }
    },
    {
      "cell_type": "markdown",
      "source": [
        "**Flatten 층**\n",
        "\n",
        "지금까지 2차원 이상의 넘파이 배열의 데이터를 reshpae() 메서드를 이용해서 변경\n",
        "\n",
        "Flatten 클래스는 배치 차원을 제외하고 나머지 입력 차원을 모두 일렬로 펼치는 역할만 함\n",
        "\n",
        "데이터의 첫 번째 축(0번 축)을 배치축 또는 배치 차원이라고 부름\n",
        "\n",
        "입력에 곱해지는 가중치나 절편이 없어서 성능에 기여하는 것은 없음\n",
        "\n",
        "그러나 Flatten 클래스는 입력층과 은닉층 사이에 추가되기 때문에 층이라고 부름\n",
        "\n",
        "하지만 Flatten 클래스는 학습하는 층이 아니므로 이 신경망의 깊이가 3인 신경망이라고 하지는 않음"
      ],
      "metadata": {
        "id": "t2pCUqzZX5wp"
      }
    },
    {
      "cell_type": "code",
      "source": [
        "model = keras.Sequential()\n",
        "model.add(keras.layers.Flatten(input_shape=(28, 28)))\n",
        "model.add(keras.layers.Dense(100, activation='relu'))\n",
        "model.add(keras.layers.Dense(10, activation='softmax'))"
      ],
      "metadata": {
        "id": "t56wT1UJJ-pw"
      },
      "execution_count": 12,
      "outputs": []
    },
    {
      "cell_type": "code",
      "source": [
        "model.summary()"
      ],
      "metadata": {
        "colab": {
          "base_uri": "https://localhost:8080/"
        },
        "id": "JjnUqaMeKDYX",
        "outputId": "2c6bd346-bd8b-4d62-9a5c-79ac7e446591"
      },
      "execution_count": 13,
      "outputs": [
        {
          "output_type": "stream",
          "name": "stdout",
          "text": [
            "Model: \"sequential_2\"\n",
            "_________________________________________________________________\n",
            " Layer (type)                Output Shape              Param #   \n",
            "=================================================================\n",
            " flatten (Flatten)           (None, 784)               0         \n",
            "                                                                 \n",
            " dense_4 (Dense)             (None, 100)               78500     \n",
            "                                                                 \n",
            " dense_5 (Dense)             (None, 10)                1010      \n",
            "                                                                 \n",
            "=================================================================\n",
            "Total params: 79510 (310.59 KB)\n",
            "Trainable params: 79510 (310.59 KB)\n",
            "Non-trainable params: 0 (0.00 Byte)\n",
            "_________________________________________________________________\n"
          ]
        }
      ]
    },
    {
      "cell_type": "markdown",
      "source": [
        "첫 번째 등장하는 Flatten 클레스에 포함된 모델 파라미터는 0개\n",
        "\n",
        "케라스의 Flatten 층을 신경망 모델에 추가하면 입력값의 차원을 짐작할 수 있음\n",
        "\n",
        "케라스 API는 입력 데이터에 대한 전처리 과정을 될 수 있으면 모델에 포함시킴\n",
        "\n",
        "\n",
        "\n",
        "---\n",
        "\n",
        "훈련 데이터 재생성\n",
        "\n",
        "이전과 다른점은 reshpae() 메서드를 사용하지 않음"
      ],
      "metadata": {
        "id": "LYTKoFQVYfCq"
      }
    },
    {
      "cell_type": "code",
      "source": [
        "(train_input, train_target), (test_input, test_target) = keras.datasets.fashion_mnist.load_data()\n",
        "\n",
        "train_scaled = train_input / 255.0\n",
        "\n",
        "train_scaled, val_scaled, train_target, val_target = train_test_split(\n",
        "    train_scaled, train_target, test_size=0.2, random_state=42)"
      ],
      "metadata": {
        "id": "y0U8Rs0RKFGG"
      },
      "execution_count": 14,
      "outputs": []
    },
    {
      "cell_type": "code",
      "source": [
        "model.compile(loss='sparse_categorical_crossentropy', metrics='accuracy')\n",
        "\n",
        "model.fit(train_scaled, train_target, epochs=5)"
      ],
      "metadata": {
        "colab": {
          "base_uri": "https://localhost:8080/"
        },
        "id": "vHbC3j2MKIWE",
        "outputId": "3ba949bd-d2cd-41a1-9110-a62688f10674"
      },
      "execution_count": 15,
      "outputs": [
        {
          "output_type": "stream",
          "name": "stdout",
          "text": [
            "Epoch 1/5\n",
            "1500/1500 [==============================] - 5s 3ms/step - loss: 0.5291 - accuracy: 0.8113\n",
            "Epoch 2/5\n",
            "1500/1500 [==============================] - 6s 4ms/step - loss: 0.3924 - accuracy: 0.8580\n",
            "Epoch 3/5\n",
            "1500/1500 [==============================] - 5s 3ms/step - loss: 0.3525 - accuracy: 0.8719\n",
            "Epoch 4/5\n",
            "1500/1500 [==============================] - 6s 4ms/step - loss: 0.3318 - accuracy: 0.8816\n",
            "Epoch 5/5\n",
            "1500/1500 [==============================] - 5s 3ms/step - loss: 0.3154 - accuracy: 0.8855\n"
          ]
        },
        {
          "output_type": "execute_result",
          "data": {
            "text/plain": [
              "<keras.src.callbacks.History at 0x7cc5124a24a0>"
            ]
          },
          "metadata": {},
          "execution_count": 15
        }
      ]
    },
    {
      "cell_type": "markdown",
      "source": [
        "시그모이드를 사용했을 때보다 약간 성능이 향상됨"
      ],
      "metadata": {
        "id": "-WuMDzAWY7lW"
      }
    },
    {
      "cell_type": "code",
      "source": [
        "model.evaluate(val_scaled, val_target)"
      ],
      "metadata": {
        "colab": {
          "base_uri": "https://localhost:8080/"
        },
        "id": "IxXesU8FKKOQ",
        "outputId": "351853f5-624a-43fd-833d-b2e8cf0fb673"
      },
      "execution_count": 16,
      "outputs": [
        {
          "output_type": "stream",
          "name": "stdout",
          "text": [
            "375/375 [==============================] - 2s 3ms/step - loss: 0.3865 - accuracy: 0.8668\n"
          ]
        },
        {
          "output_type": "execute_result",
          "data": {
            "text/plain": [
              "[0.3864709138870239, 0.8668333292007446]"
            ]
          },
          "metadata": {},
          "execution_count": 16
        }
      ]
    },
    {
      "cell_type": "markdown",
      "source": [
        "# **옵티마이저(optimizer)**"
      ],
      "metadata": {
        "id": "3UXGqxoUKNpW"
      }
    },
    {
      "cell_type": "markdown",
      "source": [
        "신경망의 가중치와 절편을 학습하기 위한 알고리즘 또는 방법\n",
        "\n",
        "사용할 경사 하강법 알고리즘과 그 파라미터를 지정하는 매개변수\n",
        "\n",
        "신경망에는 하이퍼파라미터가 많음\n",
        "\n",
        "추가할 은닉층의 개수, 은닉층의 뉴런 개수, 사용할 활성화 함수, 층의 종류, 배치 사이즈 등\n",
        "\n",
        "fit 메서드의 미니배치 개수, epoches 매개변수\n",
        "\n",
        "compile() 메서드는 경사 하강법 알고리즘인 RMSprop을 사용\n",
        "\n",
        "케라스의 기본 세팅된 경사 하강법 알고리즘은 RMSprop 이고 RMSprop의 학습률 또한 하이퍼파라미터\n",
        "\n",
        "케라스는 다양한 종류의 경사 하강법 알고리즘을 제공하여 이들을 옵티마이저라고 함\n",
        "\n"
      ],
      "metadata": {
        "id": "uNXtXAdIZgBK"
      }
    },
    {
      "cell_type": "markdown",
      "source": [
        "**모멘텀 최적화**\n",
        "\n",
        "모멘텀(관성, 운동량) 조절\n",
        "\n",
        "sgd = keras.optimizers.SGD(momentum=0.9) # 기본값은 0\n",
        "\n",
        "새로운 가중치와 절편을 계산할 때 과거의 가중치와 절편의 변화량을 어느 정도 반영할 것인지 결정함\n",
        "\n",
        "간단히 말하면 한 번에 이동하는 가중치와 절편의 크기에 변화를 줌\n",
        "\n",
        "여기서 표시된 loss 는 절대제곱오차"
      ],
      "metadata": {
        "id": "8CJGHv3VaVOb"
      }
    },
    {
      "cell_type": "markdown",
      "source": [
        "**네스테로프 모멘텀 최적화(네스테로프 가속 경사)**\n",
        "\n",
        "sgd = keras.optimizers.SGD(momentum=0.9, nesterov=True)\n",
        "\n",
        "모멘텀 최적화를 2번 반복하여 구현"
      ],
      "metadata": {
        "id": "VM1ODkV5axbr"
      }
    },
    {
      "cell_type": "markdown",
      "source": [
        "**적응적 학습률**\n",
        "\n",
        "Adagrad(Adaptive gradient descent)\n",
        "\n",
        "그레이디언트 제곱을 누적하여 학습률을 나눔\n",
        "\n"
      ],
      "metadata": {
        "id": "QQLiFXMCbIHy"
      }
    },
    {
      "cell_type": "markdown",
      "source": [
        "**RMSprop**\n",
        "\n",
        "그레이디언트 제곱을 누적하여 학습률을 나누지만 최근의 그레이디언트"
      ],
      "metadata": {
        "id": "kw9ccPMpbWNF"
      }
    },
    {
      "cell_type": "markdown",
      "source": [
        "**Adam**\n",
        "\n",
        "모멘텀 최적화와 RMSprop의 장점을 접목한 것"
      ],
      "metadata": {
        "id": "LBZYVPZubfe7"
      }
    },
    {
      "cell_type": "code",
      "source": [
        "model.compile(optimizer='sgd', loss='sparse_categorical_crossentropy', metrics='accuracy')"
      ],
      "metadata": {
        "id": "nJ91PbuCKQtd"
      },
      "execution_count": 17,
      "outputs": []
    },
    {
      "cell_type": "code",
      "source": [
        "sgd = keras.optimizers.SGD()\n",
        "model.compile(optimizer=sgd, loss='sparse_categorical_crossentropy', metrics='accuracy')"
      ],
      "metadata": {
        "id": "cl_4aI7sKRCM"
      },
      "execution_count": 18,
      "outputs": []
    },
    {
      "cell_type": "code",
      "source": [
        "sgd = keras.optimizers.SGD(learning_rate=0.1)"
      ],
      "metadata": {
        "id": "G2NRr-TTKRQc"
      },
      "execution_count": 19,
      "outputs": []
    },
    {
      "cell_type": "code",
      "source": [
        "sgd = keras.optimizers.SGD(momentum=0.9, nesterov=True)"
      ],
      "metadata": {
        "id": "cQ_-VoccKRc-"
      },
      "execution_count": 20,
      "outputs": []
    },
    {
      "cell_type": "code",
      "source": [
        "adagrad = keras.optimizers.Adagrad()\n",
        "model.compile(optimizer=adagrad, loss='sparse_categorical_crossentropy', metrics='accuracy')"
      ],
      "metadata": {
        "id": "yJRZkxoeKRqC"
      },
      "execution_count": 21,
      "outputs": []
    },
    {
      "cell_type": "code",
      "source": [
        "rmsprop = keras.optimizers.RMSprop()\n",
        "model.compile(optimizer=rmsprop, loss='sparse_categorical_crossentropy', metrics='accuracy')"
      ],
      "metadata": {
        "id": "T5k8U6kdKYbB"
      },
      "execution_count": 22,
      "outputs": []
    },
    {
      "cell_type": "code",
      "source": [
        "model = keras.Sequential()\n",
        "model.add(keras.layers.Flatten(input_shape=(28, 28)))\n",
        "model.add(keras.layers.Dense(100, activation='relu'))\n",
        "model.add(keras.layers.Dense(10, activation='softmax'))"
      ],
      "metadata": {
        "id": "_-h2fEHJKYnu"
      },
      "execution_count": 23,
      "outputs": []
    },
    {
      "cell_type": "code",
      "source": [
        "model.compile(optimizer='adam', loss='sparse_categorical_crossentropy', metrics='accuracy')\n",
        "\n",
        "model.fit(train_scaled, train_target, epochs=5)"
      ],
      "metadata": {
        "colab": {
          "base_uri": "https://localhost:8080/"
        },
        "id": "ob-g5tRwKj47",
        "outputId": "fbe02193-945e-4fa3-b1a1-314283e009aa"
      },
      "execution_count": 24,
      "outputs": [
        {
          "output_type": "stream",
          "name": "stdout",
          "text": [
            "Epoch 1/5\n",
            "1500/1500 [==============================] - 6s 3ms/step - loss: 0.5262 - accuracy: 0.8154\n",
            "Epoch 2/5\n",
            "1500/1500 [==============================] - 6s 4ms/step - loss: 0.3940 - accuracy: 0.8589\n",
            "Epoch 3/5\n",
            "1500/1500 [==============================] - 5s 4ms/step - loss: 0.3546 - accuracy: 0.8702\n",
            "Epoch 4/5\n",
            "1500/1500 [==============================] - 7s 4ms/step - loss: 0.3284 - accuracy: 0.8794\n",
            "Epoch 5/5\n",
            "1500/1500 [==============================] - 6s 4ms/step - loss: 0.3058 - accuracy: 0.8872\n"
          ]
        },
        {
          "output_type": "execute_result",
          "data": {
            "text/plain": [
              "<keras.src.callbacks.History at 0x7cc52a6ba0e0>"
            ]
          },
          "metadata": {},
          "execution_count": 24
        }
      ]
    },
    {
      "cell_type": "code",
      "source": [
        "adam = keras.optimizers.Adam(learning_rate=0.0005, beta_1=0.8, beta_2=0.9)\n",
        "\n",
        "model = keras.Sequential()\n",
        "model.add(keras.layers.Flatten(input_shape=(28, 28)))\n",
        "model.add(keras.layers.Dense(100, activation=\"relu\"))\n",
        "model.add(keras.layers.Dense(10, activation=\"softmax\"))\n",
        "\n",
        "model.compile(optimizer=adam, loss='sparse_categorical_crossentropy', metrics='accuracy')\n",
        "model.fit(train_scaled, train_target, epochs=5)\n",
        "\n",
        "model.evaluate(val_scaled, val_target)"
      ],
      "metadata": {
        "colab": {
          "base_uri": "https://localhost:8080/"
        },
        "id": "OK5n44ADckYK",
        "outputId": "6775a5bf-3b6f-45b1-9e15-527b72809b8b"
      },
      "execution_count": 27,
      "outputs": [
        {
          "output_type": "stream",
          "name": "stdout",
          "text": [
            "Epoch 1/5\n",
            "1500/1500 [==============================] - 6s 4ms/step - loss: 0.5594 - accuracy: 0.8089\n",
            "Epoch 2/5\n",
            "1500/1500 [==============================] - 7s 4ms/step - loss: 0.4084 - accuracy: 0.8569\n",
            "Epoch 3/5\n",
            "1500/1500 [==============================] - 6s 4ms/step - loss: 0.3706 - accuracy: 0.8668\n",
            "Epoch 4/5\n",
            "1500/1500 [==============================] - 7s 4ms/step - loss: 0.3439 - accuracy: 0.8784\n",
            "Epoch 5/5\n",
            "1500/1500 [==============================] - 6s 4ms/step - loss: 0.3246 - accuracy: 0.8830\n",
            "375/375 [==============================] - 1s 2ms/step - loss: 0.3590 - accuracy: 0.8724\n"
          ]
        },
        {
          "output_type": "execute_result",
          "data": {
            "text/plain": [
              "[0.3589978814125061, 0.8724166750907898]"
            ]
          },
          "metadata": {},
          "execution_count": 27
        }
      ]
    }
  ]
}